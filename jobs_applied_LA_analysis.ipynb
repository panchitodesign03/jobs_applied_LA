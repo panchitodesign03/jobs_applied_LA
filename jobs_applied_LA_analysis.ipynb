{
 "cells": [
  {
   "cell_type": "code",
   "execution_count": 34,
   "metadata": {},
   "outputs": [],
   "source": [
    "import csv, pandas as pd, numpy as np, matplotlib.pyplot as plt"
   ]
  },
  {
   "cell_type": "markdown",
   "metadata": {},
   "source": [
    "## Data Set\n",
    "This data set reflects the jobs applied to in LA city by Gender and Ethnicity.\n",
    "\n",
    "This data set was found on data.gov\n",
    "URL Link: https://catalog.data.gov/dataset/applicant-information-from-7-1-2014-to-9-30-2014-7835b"
   ]
  },
  {
   "cell_type": "markdown",
   "metadata": {},
   "source": [
    "## Data Wrangling and Data Cleaning"
   ]
  },
  {
   "cell_type": "code",
   "execution_count": 35,
   "metadata": {},
   "outputs": [],
   "source": [
    "#Loading in the data set into a data frame\n",
    "job_applicants_df = pd.read_csv(open('Job_Applicants_by_Gender_and_Ethnicity.csv'), header=None)"
   ]
  },
  {
   "cell_type": "code",
   "execution_count": 36,
   "metadata": {},
   "outputs": [
    {
     "name": "stdout",
     "output_type": "stream",
     "text": [
      "Int64Index([0, 1, 2, 3, 4, 5, 6, 7, 8, 9, 10, 11, 12, 13], dtype='int64')\n"
     ]
    }
   ],
   "source": [
    "#Investigating column names\n",
    "print job_applicants_df.columns"
   ]
  },
  {
   "cell_type": "code",
   "execution_count": 37,
   "metadata": {},
   "outputs": [],
   "source": [
    "#renaming column names\n",
    "\n",
    "#new column names instead of numbers\n",
    "column_names = [\"fiscal_year\", \"job_number\", \"job_description\",\n",
    "                \"apps_received\", \"female\", \"male\", \"unknown_gender\",\n",
    "                \"black\", \"hispanic\", \"asian\", \"caucasian\", \n",
    "                \"american_indian_alaskan_native\", \"filipino\", \"unknown_ethnicity\"\n",
    "               ]\n",
    "job_applicants_df.columns = column_names\n",
    "#dropping first row since it was the title name in the data set\n",
    "job_applicants_df = job_applicants_df.drop(job_applicants_df.index[0])"
   ]
  },
  {
   "cell_type": "code",
   "execution_count": 38,
   "metadata": {},
   "outputs": [],
   "source": [
    "#dropping job number column since it was arbitrary\n",
    "job_applicants_df = job_applicants_df.drop(\"job_number\", axis=1)"
   ]
  },
  {
   "cell_type": "code",
   "execution_count": 39,
   "metadata": {},
   "outputs": [
    {
     "data": {
      "text/html": [
       "<div>\n",
       "<style scoped>\n",
       "    .dataframe tbody tr th:only-of-type {\n",
       "        vertical-align: middle;\n",
       "    }\n",
       "\n",
       "    .dataframe tbody tr th {\n",
       "        vertical-align: top;\n",
       "    }\n",
       "\n",
       "    .dataframe thead th {\n",
       "        text-align: right;\n",
       "    }\n",
       "</style>\n",
       "<table border=\"1\" class=\"dataframe\">\n",
       "  <thead>\n",
       "    <tr style=\"text-align: right;\">\n",
       "      <th></th>\n",
       "      <th>fiscal_year</th>\n",
       "      <th>job_description</th>\n",
       "      <th>apps_received</th>\n",
       "      <th>female</th>\n",
       "      <th>male</th>\n",
       "      <th>unknown_gender</th>\n",
       "      <th>black</th>\n",
       "      <th>hispanic</th>\n",
       "      <th>asian</th>\n",
       "      <th>caucasian</th>\n",
       "      <th>american_indian_alaskan_native</th>\n",
       "      <th>filipino</th>\n",
       "      <th>unknown_ethnicity</th>\n",
       "    </tr>\n",
       "  </thead>\n",
       "  <tbody>\n",
       "    <tr>\n",
       "      <th>1</th>\n",
       "      <td>2013-2014</td>\n",
       "      <td>311 DIRECTOR 9206</td>\n",
       "      <td>54</td>\n",
       "      <td>20</td>\n",
       "      <td>31</td>\n",
       "      <td>3</td>\n",
       "      <td>25</td>\n",
       "      <td>18</td>\n",
       "      <td>1</td>\n",
       "      <td>6</td>\n",
       "      <td>0</td>\n",
       "      <td>0</td>\n",
       "      <td>4</td>\n",
       "    </tr>\n",
       "    <tr>\n",
       "      <th>2</th>\n",
       "      <td>2013-2014</td>\n",
       "      <td>ACCOUNTING CLERK 1223</td>\n",
       "      <td>648</td>\n",
       "      <td>488</td>\n",
       "      <td>152</td>\n",
       "      <td>8</td>\n",
       "      <td>151</td>\n",
       "      <td>204</td>\n",
       "      <td>123</td>\n",
       "      <td>62</td>\n",
       "      <td>3</td>\n",
       "      <td>79</td>\n",
       "      <td>26</td>\n",
       "    </tr>\n",
       "    <tr>\n",
       "      <th>3</th>\n",
       "      <td>2013-2014</td>\n",
       "      <td>AIRPORT MANAGER 7260</td>\n",
       "      <td>51</td>\n",
       "      <td>13</td>\n",
       "      <td>37</td>\n",
       "      <td>1</td>\n",
       "      <td>8</td>\n",
       "      <td>12</td>\n",
       "      <td>9</td>\n",
       "      <td>20</td>\n",
       "      <td>0</td>\n",
       "      <td>0</td>\n",
       "      <td>2</td>\n",
       "    </tr>\n",
       "    <tr>\n",
       "      <th>4</th>\n",
       "      <td>2013-2014</td>\n",
       "      <td>AIRPORT POLICE LIEUTENANT 2013</td>\n",
       "      <td>48</td>\n",
       "      <td>9</td>\n",
       "      <td>38</td>\n",
       "      <td>1</td>\n",
       "      <td>21</td>\n",
       "      <td>14</td>\n",
       "      <td>3</td>\n",
       "      <td>7</td>\n",
       "      <td>0</td>\n",
       "      <td>1</td>\n",
       "      <td>2</td>\n",
       "    </tr>\n",
       "    <tr>\n",
       "      <th>5</th>\n",
       "      <td>2013-2014</td>\n",
       "      <td>AQUARIST 2400</td>\n",
       "      <td>40</td>\n",
       "      <td>15</td>\n",
       "      <td>24</td>\n",
       "      <td>1</td>\n",
       "      <td>3</td>\n",
       "      <td>7</td>\n",
       "      <td>7</td>\n",
       "      <td>19</td>\n",
       "      <td>1</td>\n",
       "      <td>1</td>\n",
       "      <td>2</td>\n",
       "    </tr>\n",
       "    <tr>\n",
       "      <th>6</th>\n",
       "      <td>2013-2014</td>\n",
       "      <td>ARCHIVIST1191</td>\n",
       "      <td>161</td>\n",
       "      <td>89</td>\n",
       "      <td>66</td>\n",
       "      <td>6</td>\n",
       "      <td>12</td>\n",
       "      <td>36</td>\n",
       "      <td>20</td>\n",
       "      <td>73</td>\n",
       "      <td>0</td>\n",
       "      <td>6</td>\n",
       "      <td>14</td>\n",
       "    </tr>\n",
       "    <tr>\n",
       "      <th>7</th>\n",
       "      <td>2013-2014</td>\n",
       "      <td>ART CENTER DIRECTOR 2478</td>\n",
       "      <td>102</td>\n",
       "      <td>53</td>\n",
       "      <td>48</td>\n",
       "      <td>1</td>\n",
       "      <td>22</td>\n",
       "      <td>18</td>\n",
       "      <td>14</td>\n",
       "      <td>37</td>\n",
       "      <td>2</td>\n",
       "      <td>4</td>\n",
       "      <td>5</td>\n",
       "    </tr>\n",
       "    <tr>\n",
       "      <th>8</th>\n",
       "      <td>2013-2014</td>\n",
       "      <td>ARTS ASSOCIATE 2454</td>\n",
       "      <td>702</td>\n",
       "      <td>430</td>\n",
       "      <td>240</td>\n",
       "      <td>32</td>\n",
       "      <td>96</td>\n",
       "      <td>173</td>\n",
       "      <td>84</td>\n",
       "      <td>211</td>\n",
       "      <td>5</td>\n",
       "      <td>40</td>\n",
       "      <td>93</td>\n",
       "    </tr>\n",
       "    <tr>\n",
       "      <th>9</th>\n",
       "      <td>2013-2014</td>\n",
       "      <td>ASSISTANT COMMUNICATIONS CABLE WORKER 3808</td>\n",
       "      <td>105</td>\n",
       "      <td>3</td>\n",
       "      <td>101</td>\n",
       "      <td>1</td>\n",
       "      <td>24</td>\n",
       "      <td>44</td>\n",
       "      <td>2</td>\n",
       "      <td>27</td>\n",
       "      <td>0</td>\n",
       "      <td>6</td>\n",
       "      <td>2</td>\n",
       "    </tr>\n",
       "    <tr>\n",
       "      <th>10</th>\n",
       "      <td>2013-2014</td>\n",
       "      <td>ASSISTANT UTILITY BUYER 1860</td>\n",
       "      <td>897</td>\n",
       "      <td>467</td>\n",
       "      <td>411</td>\n",
       "      <td>19</td>\n",
       "      <td>197</td>\n",
       "      <td>229</td>\n",
       "      <td>197</td>\n",
       "      <td>116</td>\n",
       "      <td>3</td>\n",
       "      <td>103</td>\n",
       "      <td>52</td>\n",
       "    </tr>\n",
       "    <tr>\n",
       "      <th>11</th>\n",
       "      <td>2013-2014</td>\n",
       "      <td>AUDIO VISUAL TECHNICIAN (6147)</td>\n",
       "      <td>329</td>\n",
       "      <td>27</td>\n",
       "      <td>294</td>\n",
       "      <td>8</td>\n",
       "      <td>70</td>\n",
       "      <td>97</td>\n",
       "      <td>19</td>\n",
       "      <td>107</td>\n",
       "      <td>1</td>\n",
       "      <td>10</td>\n",
       "      <td>25</td>\n",
       "    </tr>\n",
       "    <tr>\n",
       "      <th>12</th>\n",
       "      <td>2013-2014</td>\n",
       "      <td>AUTOMOTIVE DISPATCHER 3595</td>\n",
       "      <td>104</td>\n",
       "      <td>27</td>\n",
       "      <td>75</td>\n",
       "      <td>2</td>\n",
       "      <td>41</td>\n",
       "      <td>43</td>\n",
       "      <td>5</td>\n",
       "      <td>6</td>\n",
       "      <td>1</td>\n",
       "      <td>2</td>\n",
       "      <td>6</td>\n",
       "    </tr>\n",
       "    <tr>\n",
       "      <th>13</th>\n",
       "      <td>2013-2014</td>\n",
       "      <td>AUTOMOTIVE SUPERVISOR 3714</td>\n",
       "      <td>124</td>\n",
       "      <td>2</td>\n",
       "      <td>120</td>\n",
       "      <td>2</td>\n",
       "      <td>7</td>\n",
       "      <td>53</td>\n",
       "      <td>10</td>\n",
       "      <td>46</td>\n",
       "      <td>1</td>\n",
       "      <td>2</td>\n",
       "      <td>5</td>\n",
       "    </tr>\n",
       "    <tr>\n",
       "      <th>14</th>\n",
       "      <td>2013-2014</td>\n",
       "      <td>BUILDING MECHANICAL INSPECTOR 4251</td>\n",
       "      <td>199</td>\n",
       "      <td>7</td>\n",
       "      <td>191</td>\n",
       "      <td>1</td>\n",
       "      <td>24</td>\n",
       "      <td>57</td>\n",
       "      <td>3</td>\n",
       "      <td>101</td>\n",
       "      <td>1</td>\n",
       "      <td>4</td>\n",
       "      <td>9</td>\n",
       "    </tr>\n",
       "    <tr>\n",
       "      <th>15</th>\n",
       "      <td>2013-2014</td>\n",
       "      <td>BUILDING REPAIR SUPERVISOR 3338</td>\n",
       "      <td>79</td>\n",
       "      <td>0</td>\n",
       "      <td>78</td>\n",
       "      <td>1</td>\n",
       "      <td>8</td>\n",
       "      <td>21</td>\n",
       "      <td>1</td>\n",
       "      <td>33</td>\n",
       "      <td>1</td>\n",
       "      <td>9</td>\n",
       "      <td>6</td>\n",
       "    </tr>\n",
       "    <tr>\n",
       "      <th>16</th>\n",
       "      <td>2013-2014</td>\n",
       "      <td>CARPET LAYER 2014</td>\n",
       "      <td>9</td>\n",
       "      <td>1</td>\n",
       "      <td>8</td>\n",
       "      <td>0</td>\n",
       "      <td>6</td>\n",
       "      <td>3</td>\n",
       "      <td>0</td>\n",
       "      <td>0</td>\n",
       "      <td>0</td>\n",
       "      <td>0</td>\n",
       "      <td>0</td>\n",
       "    </tr>\n",
       "    <tr>\n",
       "      <th>17</th>\n",
       "      <td>2013-2014</td>\n",
       "      <td>CHIEF CLERK PERSONNEL 1260</td>\n",
       "      <td>39</td>\n",
       "      <td>35</td>\n",
       "      <td>4</td>\n",
       "      <td>0</td>\n",
       "      <td>16</td>\n",
       "      <td>12</td>\n",
       "      <td>2</td>\n",
       "      <td>4</td>\n",
       "      <td>0</td>\n",
       "      <td>3</td>\n",
       "      <td>2</td>\n",
       "    </tr>\n",
       "    <tr>\n",
       "      <th>18</th>\n",
       "      <td>2013-2014</td>\n",
       "      <td>CHIEF FINANCIAL OFFICER 9230</td>\n",
       "      <td>57</td>\n",
       "      <td>22</td>\n",
       "      <td>34</td>\n",
       "      <td>1</td>\n",
       "      <td>10</td>\n",
       "      <td>7</td>\n",
       "      <td>11</td>\n",
       "      <td>21</td>\n",
       "      <td>0</td>\n",
       "      <td>4</td>\n",
       "      <td>4</td>\n",
       "    </tr>\n",
       "    <tr>\n",
       "      <th>19</th>\n",
       "      <td>2013-2014</td>\n",
       "      <td>CHIEF MANAGEMENT ANALYST 9182</td>\n",
       "      <td>143</td>\n",
       "      <td>78</td>\n",
       "      <td>54</td>\n",
       "      <td>11</td>\n",
       "      <td>19</td>\n",
       "      <td>32</td>\n",
       "      <td>15</td>\n",
       "      <td>42</td>\n",
       "      <td>0</td>\n",
       "      <td>15</td>\n",
       "      <td>20</td>\n",
       "    </tr>\n",
       "    <tr>\n",
       "      <th>20</th>\n",
       "      <td>2013-2014</td>\n",
       "      <td>CHIEF OF AIRPORT PLANNING 7945</td>\n",
       "      <td>5</td>\n",
       "      <td>3</td>\n",
       "      <td>2</td>\n",
       "      <td>0</td>\n",
       "      <td>0</td>\n",
       "      <td>3</td>\n",
       "      <td>0</td>\n",
       "      <td>2</td>\n",
       "      <td>0</td>\n",
       "      <td>0</td>\n",
       "      <td>0</td>\n",
       "    </tr>\n",
       "    <tr>\n",
       "      <th>21</th>\n",
       "      <td>2013-2014</td>\n",
       "      <td>CHIEF OF DRAFTING OPERATIONS 7271</td>\n",
       "      <td>13</td>\n",
       "      <td>2</td>\n",
       "      <td>11</td>\n",
       "      <td>0</td>\n",
       "      <td>1</td>\n",
       "      <td>7</td>\n",
       "      <td>2</td>\n",
       "      <td>1</td>\n",
       "      <td>0</td>\n",
       "      <td>1</td>\n",
       "      <td>1</td>\n",
       "    </tr>\n",
       "    <tr>\n",
       "      <th>22</th>\n",
       "      <td>2013-2014</td>\n",
       "      <td>CHIEF PERSONNEL ANALYST 1741</td>\n",
       "      <td>13</td>\n",
       "      <td>4</td>\n",
       "      <td>9</td>\n",
       "      <td>0</td>\n",
       "      <td>1</td>\n",
       "      <td>2</td>\n",
       "      <td>3</td>\n",
       "      <td>4</td>\n",
       "      <td>0</td>\n",
       "      <td>1</td>\n",
       "      <td>2</td>\n",
       "    </tr>\n",
       "    <tr>\n",
       "      <th>23</th>\n",
       "      <td>2013-2014</td>\n",
       "      <td>CHIEF TAX COMPLIANCE OFFICER 1211</td>\n",
       "      <td>14</td>\n",
       "      <td>1</td>\n",
       "      <td>13</td>\n",
       "      <td>0</td>\n",
       "      <td>1</td>\n",
       "      <td>0</td>\n",
       "      <td>7</td>\n",
       "      <td>3</td>\n",
       "      <td>1</td>\n",
       "      <td>2</td>\n",
       "      <td>0</td>\n",
       "    </tr>\n",
       "    <tr>\n",
       "      <th>24</th>\n",
       "      <td>2013-2014</td>\n",
       "      <td>COMMUNICATIONS CABLE WORKER 3802</td>\n",
       "      <td>393</td>\n",
       "      <td>2</td>\n",
       "      <td>386</td>\n",
       "      <td>5</td>\n",
       "      <td>69</td>\n",
       "      <td>206</td>\n",
       "      <td>17</td>\n",
       "      <td>67</td>\n",
       "      <td>5</td>\n",
       "      <td>15</td>\n",
       "      <td>14</td>\n",
       "    </tr>\n",
       "    <tr>\n",
       "      <th>25</th>\n",
       "      <td>2013-2014</td>\n",
       "      <td>COMMUNICATIONS ELECTRICIAN SUPERVISOR 3689</td>\n",
       "      <td>72</td>\n",
       "      <td>2</td>\n",
       "      <td>70</td>\n",
       "      <td>0</td>\n",
       "      <td>13</td>\n",
       "      <td>16</td>\n",
       "      <td>11</td>\n",
       "      <td>27</td>\n",
       "      <td>0</td>\n",
       "      <td>4</td>\n",
       "      <td>1</td>\n",
       "    </tr>\n",
       "    <tr>\n",
       "      <th>26</th>\n",
       "      <td>2013-2014</td>\n",
       "      <td>CONTROL SYSTEMS ENGINEERING ASSOCIATE 7230</td>\n",
       "      <td>200</td>\n",
       "      <td>13</td>\n",
       "      <td>176</td>\n",
       "      <td>11</td>\n",
       "      <td>16</td>\n",
       "      <td>44</td>\n",
       "      <td>70</td>\n",
       "      <td>37</td>\n",
       "      <td>1</td>\n",
       "      <td>13</td>\n",
       "      <td>19</td>\n",
       "    </tr>\n",
       "    <tr>\n",
       "      <th>27</th>\n",
       "      <td>2013-2014</td>\n",
       "      <td>CUSTOMER SERVICE REPRESENTATIVE 1230</td>\n",
       "      <td>28230</td>\n",
       "      <td>19892</td>\n",
       "      <td>7968</td>\n",
       "      <td>370</td>\n",
       "      <td>12618</td>\n",
       "      <td>10214</td>\n",
       "      <td>1094</td>\n",
       "      <td>1958</td>\n",
       "      <td>131</td>\n",
       "      <td>740</td>\n",
       "      <td>1475</td>\n",
       "    </tr>\n",
       "    <tr>\n",
       "      <th>28</th>\n",
       "      <td>2013-2014</td>\n",
       "      <td>CUSTOMER SERVICE SPECIALIST 1229 (Filing start...</td>\n",
       "      <td>220</td>\n",
       "      <td>149</td>\n",
       "      <td>70</td>\n",
       "      <td>1</td>\n",
       "      <td>82</td>\n",
       "      <td>98</td>\n",
       "      <td>9</td>\n",
       "      <td>12</td>\n",
       "      <td>1</td>\n",
       "      <td>14</td>\n",
       "      <td>4</td>\n",
       "    </tr>\n",
       "    <tr>\n",
       "      <th>29</th>\n",
       "      <td>2013-2014</td>\n",
       "      <td>DETENTION OFFICER 3211</td>\n",
       "      <td>2297</td>\n",
       "      <td>819</td>\n",
       "      <td>1464</td>\n",
       "      <td>14</td>\n",
       "      <td>874</td>\n",
       "      <td>1076</td>\n",
       "      <td>70</td>\n",
       "      <td>173</td>\n",
       "      <td>10</td>\n",
       "      <td>41</td>\n",
       "      <td>53</td>\n",
       "    </tr>\n",
       "    <tr>\n",
       "      <th>30</th>\n",
       "      <td>2013-2014</td>\n",
       "      <td>DIRECTOR OF FIELD OPERATIONS 4321</td>\n",
       "      <td>14</td>\n",
       "      <td>5</td>\n",
       "      <td>9</td>\n",
       "      <td>0</td>\n",
       "      <td>2</td>\n",
       "      <td>3</td>\n",
       "      <td>0</td>\n",
       "      <td>9</td>\n",
       "      <td>0</td>\n",
       "      <td>0</td>\n",
       "      <td>0</td>\n",
       "    </tr>\n",
       "    <tr>\n",
       "      <th>...</th>\n",
       "      <td>...</td>\n",
       "      <td>...</td>\n",
       "      <td>...</td>\n",
       "      <td>...</td>\n",
       "      <td>...</td>\n",
       "      <td>...</td>\n",
       "      <td>...</td>\n",
       "      <td>...</td>\n",
       "      <td>...</td>\n",
       "      <td>...</td>\n",
       "      <td>...</td>\n",
       "      <td>...</td>\n",
       "      <td>...</td>\n",
       "    </tr>\n",
       "    <tr>\n",
       "      <th>158</th>\n",
       "      <td>2014-2015</td>\n",
       "      <td>COMMERCIAL SERVICE SUPERVISOR 1213 - ARCHIVE</td>\n",
       "      <td>257</td>\n",
       "      <td>189</td>\n",
       "      <td>58</td>\n",
       "      <td>10</td>\n",
       "      <td>114</td>\n",
       "      <td>83</td>\n",
       "      <td>15</td>\n",
       "      <td>6</td>\n",
       "      <td>2</td>\n",
       "      <td>10</td>\n",
       "      <td>27</td>\n",
       "    </tr>\n",
       "    <tr>\n",
       "      <th>159</th>\n",
       "      <td>2014-2015</td>\n",
       "      <td>CONSTRUCTION INSPECTOR 7291 - ARCHIVE</td>\n",
       "      <td>471</td>\n",
       "      <td>17</td>\n",
       "      <td>443</td>\n",
       "      <td>11</td>\n",
       "      <td>48</td>\n",
       "      <td>144</td>\n",
       "      <td>46</td>\n",
       "      <td>160</td>\n",
       "      <td>7</td>\n",
       "      <td>20</td>\n",
       "      <td>46</td>\n",
       "    </tr>\n",
       "    <tr>\n",
       "      <th>160</th>\n",
       "      <td>2014-2015</td>\n",
       "      <td>DATA PROCESSING TECHNICIAN (1136) - ARCHIVE</td>\n",
       "      <td>1175</td>\n",
       "      <td>657</td>\n",
       "      <td>471</td>\n",
       "      <td>47</td>\n",
       "      <td>306</td>\n",
       "      <td>461</td>\n",
       "      <td>140</td>\n",
       "      <td>88</td>\n",
       "      <td>2</td>\n",
       "      <td>88</td>\n",
       "      <td>90</td>\n",
       "    </tr>\n",
       "    <tr>\n",
       "      <th>161</th>\n",
       "      <td>2014-2015</td>\n",
       "      <td>DIRECTOR OF HOUSING (1568) - ARCHIVE</td>\n",
       "      <td>59</td>\n",
       "      <td>34</td>\n",
       "      <td>23</td>\n",
       "      <td>2</td>\n",
       "      <td>26</td>\n",
       "      <td>13</td>\n",
       "      <td>4</td>\n",
       "      <td>9</td>\n",
       "      <td>2</td>\n",
       "      <td>0</td>\n",
       "      <td>5</td>\n",
       "    </tr>\n",
       "    <tr>\n",
       "      <th>162</th>\n",
       "      <td>2014-2015</td>\n",
       "      <td>ELEVATOR MECHANIC 3866 - ARCHIVE</td>\n",
       "      <td>30</td>\n",
       "      <td>0</td>\n",
       "      <td>30</td>\n",
       "      <td>0</td>\n",
       "      <td>4</td>\n",
       "      <td>16</td>\n",
       "      <td>1</td>\n",
       "      <td>8</td>\n",
       "      <td>0</td>\n",
       "      <td>0</td>\n",
       "      <td>1</td>\n",
       "    </tr>\n",
       "    <tr>\n",
       "      <th>163</th>\n",
       "      <td>2014-2015</td>\n",
       "      <td>ELEVATOR MECHANIC HELPER 3860 - ARCHIVE</td>\n",
       "      <td>203</td>\n",
       "      <td>2</td>\n",
       "      <td>195</td>\n",
       "      <td>6</td>\n",
       "      <td>44</td>\n",
       "      <td>95</td>\n",
       "      <td>9</td>\n",
       "      <td>36</td>\n",
       "      <td>0</td>\n",
       "      <td>10</td>\n",
       "      <td>9</td>\n",
       "    </tr>\n",
       "    <tr>\n",
       "      <th>164</th>\n",
       "      <td>2014-2015</td>\n",
       "      <td>Firefighter 2014 (Filing starts on July 22 at ...</td>\n",
       "      <td>10215</td>\n",
       "      <td>531</td>\n",
       "      <td>9356</td>\n",
       "      <td>328</td>\n",
       "      <td>1067</td>\n",
       "      <td>3610</td>\n",
       "      <td>483</td>\n",
       "      <td>3843</td>\n",
       "      <td>153</td>\n",
       "      <td>245</td>\n",
       "      <td>814</td>\n",
       "    </tr>\n",
       "    <tr>\n",
       "      <th>165</th>\n",
       "      <td>2014-2015</td>\n",
       "      <td>GEOGRAPHIC INFORMATION SYSTEMS SUPERVISOR 7214...</td>\n",
       "      <td>27</td>\n",
       "      <td>7</td>\n",
       "      <td>18</td>\n",
       "      <td>2</td>\n",
       "      <td>1</td>\n",
       "      <td>9</td>\n",
       "      <td>3</td>\n",
       "      <td>7</td>\n",
       "      <td>0</td>\n",
       "      <td>5</td>\n",
       "      <td>2</td>\n",
       "    </tr>\n",
       "    <tr>\n",
       "      <th>166</th>\n",
       "      <td>2014-2015</td>\n",
       "      <td>GRAPHICS DESIGNER 1670 - ARCHIVE</td>\n",
       "      <td>627</td>\n",
       "      <td>252</td>\n",
       "      <td>355</td>\n",
       "      <td>20</td>\n",
       "      <td>40</td>\n",
       "      <td>185</td>\n",
       "      <td>145</td>\n",
       "      <td>148</td>\n",
       "      <td>2</td>\n",
       "      <td>52</td>\n",
       "      <td>55</td>\n",
       "    </tr>\n",
       "    <tr>\n",
       "      <th>167</th>\n",
       "      <td>2014-2015</td>\n",
       "      <td>INSTRUMENT MECHANIC 3843 - ARCHIVE</td>\n",
       "      <td>172</td>\n",
       "      <td>4</td>\n",
       "      <td>162</td>\n",
       "      <td>6</td>\n",
       "      <td>15</td>\n",
       "      <td>50</td>\n",
       "      <td>37</td>\n",
       "      <td>31</td>\n",
       "      <td>1</td>\n",
       "      <td>14</td>\n",
       "      <td>24</td>\n",
       "    </tr>\n",
       "    <tr>\n",
       "      <th>168</th>\n",
       "      <td>2014-2015</td>\n",
       "      <td>INSTRUMENT MECHANIC SUPERVISOR 3844 - ARCHIVE</td>\n",
       "      <td>41</td>\n",
       "      <td>1</td>\n",
       "      <td>36</td>\n",
       "      <td>4</td>\n",
       "      <td>4</td>\n",
       "      <td>8</td>\n",
       "      <td>7</td>\n",
       "      <td>7</td>\n",
       "      <td>0</td>\n",
       "      <td>6</td>\n",
       "      <td>9</td>\n",
       "    </tr>\n",
       "    <tr>\n",
       "      <th>169</th>\n",
       "      <td>2014-2015</td>\n",
       "      <td>LEGISLATIVE REPRESENTATIVE 9482 - ARCHIVE</td>\n",
       "      <td>41</td>\n",
       "      <td>15</td>\n",
       "      <td>24</td>\n",
       "      <td>2</td>\n",
       "      <td>10</td>\n",
       "      <td>11</td>\n",
       "      <td>4</td>\n",
       "      <td>9</td>\n",
       "      <td>0</td>\n",
       "      <td>0</td>\n",
       "      <td>7</td>\n",
       "    </tr>\n",
       "    <tr>\n",
       "      <th>170</th>\n",
       "      <td>2014-2015</td>\n",
       "      <td>PIPEFITTER 3433 - ARCHIVE</td>\n",
       "      <td>223</td>\n",
       "      <td>3</td>\n",
       "      <td>215</td>\n",
       "      <td>5</td>\n",
       "      <td>29</td>\n",
       "      <td>104</td>\n",
       "      <td>2</td>\n",
       "      <td>75</td>\n",
       "      <td>1</td>\n",
       "      <td>5</td>\n",
       "      <td>7</td>\n",
       "    </tr>\n",
       "    <tr>\n",
       "      <th>171</th>\n",
       "      <td>2014-2015</td>\n",
       "      <td>PRINCIPAL COMMUNICATIONS OPERATOR 1458 - ARCHIVE</td>\n",
       "      <td>22</td>\n",
       "      <td>17</td>\n",
       "      <td>4</td>\n",
       "      <td>1</td>\n",
       "      <td>10</td>\n",
       "      <td>7</td>\n",
       "      <td>0</td>\n",
       "      <td>4</td>\n",
       "      <td>0</td>\n",
       "      <td>0</td>\n",
       "      <td>1</td>\n",
       "    </tr>\n",
       "    <tr>\n",
       "      <th>172</th>\n",
       "      <td>2014-2015</td>\n",
       "      <td>PRINCIPAL ENVIRONMENTAL ENGINEER 7875 - ARCHIVE</td>\n",
       "      <td>27</td>\n",
       "      <td>4</td>\n",
       "      <td>22</td>\n",
       "      <td>1</td>\n",
       "      <td>1</td>\n",
       "      <td>5</td>\n",
       "      <td>3</td>\n",
       "      <td>12</td>\n",
       "      <td>0</td>\n",
       "      <td>2</td>\n",
       "      <td>4</td>\n",
       "    </tr>\n",
       "    <tr>\n",
       "      <th>173</th>\n",
       "      <td>2014-2015</td>\n",
       "      <td>PRINCIPAL WORKERS' COMPENSATION ANALYST (1777)...</td>\n",
       "      <td>10</td>\n",
       "      <td>5</td>\n",
       "      <td>5</td>\n",
       "      <td>0</td>\n",
       "      <td>3</td>\n",
       "      <td>2</td>\n",
       "      <td>3</td>\n",
       "      <td>1</td>\n",
       "      <td>0</td>\n",
       "      <td>1</td>\n",
       "      <td>0</td>\n",
       "    </tr>\n",
       "    <tr>\n",
       "      <th>174</th>\n",
       "      <td>2014-2015</td>\n",
       "      <td>SENIOR ELECTRICAL MECHANIC SUPERVISOR 3836 - A...</td>\n",
       "      <td>50</td>\n",
       "      <td>1</td>\n",
       "      <td>47</td>\n",
       "      <td>2</td>\n",
       "      <td>3</td>\n",
       "      <td>8</td>\n",
       "      <td>3</td>\n",
       "      <td>26</td>\n",
       "      <td>0</td>\n",
       "      <td>0</td>\n",
       "      <td>10</td>\n",
       "    </tr>\n",
       "    <tr>\n",
       "      <th>175</th>\n",
       "      <td>2014-2015</td>\n",
       "      <td>SENIOR GARDENER 3143 - ARCHIVE</td>\n",
       "      <td>297</td>\n",
       "      <td>33</td>\n",
       "      <td>250</td>\n",
       "      <td>14</td>\n",
       "      <td>29</td>\n",
       "      <td>192</td>\n",
       "      <td>5</td>\n",
       "      <td>34</td>\n",
       "      <td>5</td>\n",
       "      <td>9</td>\n",
       "      <td>23</td>\n",
       "    </tr>\n",
       "    <tr>\n",
       "      <th>176</th>\n",
       "      <td>2014-2015</td>\n",
       "      <td>SENIOR UNDERGROUND DISTRIBUTION CONSTRUCTION S...</td>\n",
       "      <td>15</td>\n",
       "      <td>0</td>\n",
       "      <td>14</td>\n",
       "      <td>1</td>\n",
       "      <td>2</td>\n",
       "      <td>4</td>\n",
       "      <td>2</td>\n",
       "      <td>5</td>\n",
       "      <td>0</td>\n",
       "      <td>0</td>\n",
       "      <td>2</td>\n",
       "    </tr>\n",
       "    <tr>\n",
       "      <th>177</th>\n",
       "      <td>2014-2015</td>\n",
       "      <td>SENIOR WORKERS' COMPENSATION ANALYST 1769 - AR...</td>\n",
       "      <td>44</td>\n",
       "      <td>26</td>\n",
       "      <td>18</td>\n",
       "      <td>0</td>\n",
       "      <td>16</td>\n",
       "      <td>14</td>\n",
       "      <td>2</td>\n",
       "      <td>7</td>\n",
       "      <td>1</td>\n",
       "      <td>3</td>\n",
       "      <td>1</td>\n",
       "    </tr>\n",
       "    <tr>\n",
       "      <th>178</th>\n",
       "      <td>2014-2015</td>\n",
       "      <td>SMS PAYMENT CLERK 1214 - ARCHIVE</td>\n",
       "      <td>150</td>\n",
       "      <td>119</td>\n",
       "      <td>23</td>\n",
       "      <td>8</td>\n",
       "      <td>40</td>\n",
       "      <td>41</td>\n",
       "      <td>28</td>\n",
       "      <td>9</td>\n",
       "      <td>0</td>\n",
       "      <td>12</td>\n",
       "      <td>20</td>\n",
       "    </tr>\n",
       "    <tr>\n",
       "      <th>179</th>\n",
       "      <td>2014-2015</td>\n",
       "      <td>UNDERGROUND DISTRIBUTION CONSTRUCTION MECHANIC...</td>\n",
       "      <td>591</td>\n",
       "      <td>7</td>\n",
       "      <td>573</td>\n",
       "      <td>11</td>\n",
       "      <td>82</td>\n",
       "      <td>331</td>\n",
       "      <td>12</td>\n",
       "      <td>124</td>\n",
       "      <td>5</td>\n",
       "      <td>8</td>\n",
       "      <td>29</td>\n",
       "    </tr>\n",
       "    <tr>\n",
       "      <th>180</th>\n",
       "      <td>2014-2015</td>\n",
       "      <td>UNDERGROUND DISTRIBUTION CONSTRUCTION SUPERVIS...</td>\n",
       "      <td>51</td>\n",
       "      <td>0</td>\n",
       "      <td>49</td>\n",
       "      <td>2</td>\n",
       "      <td>12</td>\n",
       "      <td>22</td>\n",
       "      <td>0</td>\n",
       "      <td>11</td>\n",
       "      <td>1</td>\n",
       "      <td>0</td>\n",
       "      <td>5</td>\n",
       "    </tr>\n",
       "    <tr>\n",
       "      <th>181</th>\n",
       "      <td>2014-2015</td>\n",
       "      <td>UTILITY SERVICES MANAGER 9106 REVISED 07/15/14...</td>\n",
       "      <td>68</td>\n",
       "      <td>31</td>\n",
       "      <td>30</td>\n",
       "      <td>7</td>\n",
       "      <td>13</td>\n",
       "      <td>19</td>\n",
       "      <td>5</td>\n",
       "      <td>16</td>\n",
       "      <td>0</td>\n",
       "      <td>6</td>\n",
       "      <td>9</td>\n",
       "    </tr>\n",
       "    <tr>\n",
       "      <th>182</th>\n",
       "      <td>2014-2015</td>\n",
       "      <td>UTILITY SERVICES SPECIALIST 3755 - ARCHIVE</td>\n",
       "      <td>735</td>\n",
       "      <td>409</td>\n",
       "      <td>282</td>\n",
       "      <td>44</td>\n",
       "      <td>182</td>\n",
       "      <td>163</td>\n",
       "      <td>125</td>\n",
       "      <td>81</td>\n",
       "      <td>4</td>\n",
       "      <td>78</td>\n",
       "      <td>102</td>\n",
       "    </tr>\n",
       "    <tr>\n",
       "      <th>183</th>\n",
       "      <td>2014-2015</td>\n",
       "      <td>WASTEWATER TREATMENT LABORATORY MANAGER 7840 -...</td>\n",
       "      <td>16</td>\n",
       "      <td>6</td>\n",
       "      <td>9</td>\n",
       "      <td>1</td>\n",
       "      <td>3</td>\n",
       "      <td>0</td>\n",
       "      <td>5</td>\n",
       "      <td>7</td>\n",
       "      <td>0</td>\n",
       "      <td>0</td>\n",
       "      <td>1</td>\n",
       "    </tr>\n",
       "    <tr>\n",
       "      <th>184</th>\n",
       "      <td>2014-2015</td>\n",
       "      <td>WASTEWATER TREATMENT OPERATOR 4123 - ARCHIVE</td>\n",
       "      <td>125</td>\n",
       "      <td>9</td>\n",
       "      <td>113</td>\n",
       "      <td>3</td>\n",
       "      <td>29</td>\n",
       "      <td>38</td>\n",
       "      <td>10</td>\n",
       "      <td>32</td>\n",
       "      <td>7</td>\n",
       "      <td>4</td>\n",
       "      <td>5</td>\n",
       "    </tr>\n",
       "    <tr>\n",
       "      <th>185</th>\n",
       "      <td>2014-2015</td>\n",
       "      <td>WATER MICROBIOLOGIST 7857 - ARCHIVE</td>\n",
       "      <td>179</td>\n",
       "      <td>89</td>\n",
       "      <td>82</td>\n",
       "      <td>8</td>\n",
       "      <td>13</td>\n",
       "      <td>37</td>\n",
       "      <td>64</td>\n",
       "      <td>25</td>\n",
       "      <td>0</td>\n",
       "      <td>18</td>\n",
       "      <td>22</td>\n",
       "    </tr>\n",
       "    <tr>\n",
       "      <th>186</th>\n",
       "      <td>2014-2015</td>\n",
       "      <td>WATER UTILITY WORKER 3912 - ARCHIVE</td>\n",
       "      <td>96</td>\n",
       "      <td>2</td>\n",
       "      <td>92</td>\n",
       "      <td>2</td>\n",
       "      <td>8</td>\n",
       "      <td>48</td>\n",
       "      <td>6</td>\n",
       "      <td>23</td>\n",
       "      <td>1</td>\n",
       "      <td>7</td>\n",
       "      <td>3</td>\n",
       "    </tr>\n",
       "    <tr>\n",
       "      <th>187</th>\n",
       "      <td>2014-2015</td>\n",
       "      <td>WORKERS' COMPENSATION ANALYST 1774 - ARCHIVE</td>\n",
       "      <td>166</td>\n",
       "      <td>100</td>\n",
       "      <td>61</td>\n",
       "      <td>5</td>\n",
       "      <td>44</td>\n",
       "      <td>61</td>\n",
       "      <td>14</td>\n",
       "      <td>21</td>\n",
       "      <td>0</td>\n",
       "      <td>11</td>\n",
       "      <td>15</td>\n",
       "    </tr>\n",
       "  </tbody>\n",
       "</table>\n",
       "<p>187 rows × 13 columns</p>\n",
       "</div>"
      ],
      "text/plain": [
       "    fiscal_year                                    job_description  \\\n",
       "1     2013-2014                                  311 DIRECTOR 9206   \n",
       "2     2013-2014                              ACCOUNTING CLERK 1223   \n",
       "3     2013-2014                               AIRPORT MANAGER 7260   \n",
       "4     2013-2014                     AIRPORT POLICE LIEUTENANT 2013   \n",
       "5     2013-2014                                      AQUARIST 2400   \n",
       "6     2013-2014                                      ARCHIVIST1191   \n",
       "7     2013-2014                           ART CENTER DIRECTOR 2478   \n",
       "8     2013-2014                                ARTS ASSOCIATE 2454   \n",
       "9     2013-2014         ASSISTANT COMMUNICATIONS CABLE WORKER 3808   \n",
       "10    2013-2014                       ASSISTANT UTILITY BUYER 1860   \n",
       "11    2013-2014                     AUDIO VISUAL TECHNICIAN (6147)   \n",
       "12    2013-2014                         AUTOMOTIVE DISPATCHER 3595   \n",
       "13    2013-2014                         AUTOMOTIVE SUPERVISOR 3714   \n",
       "14    2013-2014                 BUILDING MECHANICAL INSPECTOR 4251   \n",
       "15    2013-2014                    BUILDING REPAIR SUPERVISOR 3338   \n",
       "16    2013-2014                                  CARPET LAYER 2014   \n",
       "17    2013-2014                         CHIEF CLERK PERSONNEL 1260   \n",
       "18    2013-2014                       CHIEF FINANCIAL OFFICER 9230   \n",
       "19    2013-2014                      CHIEF MANAGEMENT ANALYST 9182   \n",
       "20    2013-2014                     CHIEF OF AIRPORT PLANNING 7945   \n",
       "21    2013-2014                  CHIEF OF DRAFTING OPERATIONS 7271   \n",
       "22    2013-2014                       CHIEF PERSONNEL ANALYST 1741   \n",
       "23    2013-2014                  CHIEF TAX COMPLIANCE OFFICER 1211   \n",
       "24    2013-2014                   COMMUNICATIONS CABLE WORKER 3802   \n",
       "25    2013-2014         COMMUNICATIONS ELECTRICIAN SUPERVISOR 3689   \n",
       "26    2013-2014         CONTROL SYSTEMS ENGINEERING ASSOCIATE 7230   \n",
       "27    2013-2014               CUSTOMER SERVICE REPRESENTATIVE 1230   \n",
       "28    2013-2014  CUSTOMER SERVICE SPECIALIST 1229 (Filing start...   \n",
       "29    2013-2014                             DETENTION OFFICER 3211   \n",
       "30    2013-2014                  DIRECTOR OF FIELD OPERATIONS 4321   \n",
       "..          ...                                                ...   \n",
       "158   2014-2015       COMMERCIAL SERVICE SUPERVISOR 1213 - ARCHIVE   \n",
       "159   2014-2015              CONSTRUCTION INSPECTOR 7291 - ARCHIVE   \n",
       "160   2014-2015        DATA PROCESSING TECHNICIAN (1136) - ARCHIVE   \n",
       "161   2014-2015               DIRECTOR OF HOUSING (1568) - ARCHIVE   \n",
       "162   2014-2015                   ELEVATOR MECHANIC 3866 - ARCHIVE   \n",
       "163   2014-2015            ELEVATOR MECHANIC HELPER 3860 - ARCHIVE   \n",
       "164   2014-2015  Firefighter 2014 (Filing starts on July 22 at ...   \n",
       "165   2014-2015  GEOGRAPHIC INFORMATION SYSTEMS SUPERVISOR 7214...   \n",
       "166   2014-2015                   GRAPHICS DESIGNER 1670 - ARCHIVE   \n",
       "167   2014-2015                 INSTRUMENT MECHANIC 3843 - ARCHIVE   \n",
       "168   2014-2015      INSTRUMENT MECHANIC SUPERVISOR 3844 - ARCHIVE   \n",
       "169   2014-2015          LEGISLATIVE REPRESENTATIVE 9482 - ARCHIVE   \n",
       "170   2014-2015                          PIPEFITTER 3433 - ARCHIVE   \n",
       "171   2014-2015   PRINCIPAL COMMUNICATIONS OPERATOR 1458 - ARCHIVE   \n",
       "172   2014-2015    PRINCIPAL ENVIRONMENTAL ENGINEER 7875 - ARCHIVE   \n",
       "173   2014-2015  PRINCIPAL WORKERS' COMPENSATION ANALYST (1777)...   \n",
       "174   2014-2015  SENIOR ELECTRICAL MECHANIC SUPERVISOR 3836 - A...   \n",
       "175   2014-2015                     SENIOR GARDENER 3143 - ARCHIVE   \n",
       "176   2014-2015  SENIOR UNDERGROUND DISTRIBUTION CONSTRUCTION S...   \n",
       "177   2014-2015  SENIOR WORKERS' COMPENSATION ANALYST 1769 - AR...   \n",
       "178   2014-2015                   SMS PAYMENT CLERK 1214 - ARCHIVE   \n",
       "179   2014-2015  UNDERGROUND DISTRIBUTION CONSTRUCTION MECHANIC...   \n",
       "180   2014-2015  UNDERGROUND DISTRIBUTION CONSTRUCTION SUPERVIS...   \n",
       "181   2014-2015  UTILITY SERVICES MANAGER 9106 REVISED 07/15/14...   \n",
       "182   2014-2015         UTILITY SERVICES SPECIALIST 3755 - ARCHIVE   \n",
       "183   2014-2015  WASTEWATER TREATMENT LABORATORY MANAGER 7840 -...   \n",
       "184   2014-2015       WASTEWATER TREATMENT OPERATOR 4123 - ARCHIVE   \n",
       "185   2014-2015                WATER MICROBIOLOGIST 7857 - ARCHIVE   \n",
       "186   2014-2015                WATER UTILITY WORKER 3912 - ARCHIVE   \n",
       "187   2014-2015       WORKERS' COMPENSATION ANALYST 1774 - ARCHIVE   \n",
       "\n",
       "     apps_received  female  male  unknown_gender  black  hispanic  asian  \\\n",
       "1               54      20    31               3     25        18      1   \n",
       "2              648     488   152               8    151       204    123   \n",
       "3               51      13    37               1      8        12      9   \n",
       "4               48       9    38               1     21        14      3   \n",
       "5               40      15    24               1      3         7      7   \n",
       "6              161      89    66               6     12        36     20   \n",
       "7              102      53    48               1     22        18     14   \n",
       "8              702     430   240              32     96       173     84   \n",
       "9              105       3   101               1     24        44      2   \n",
       "10             897     467   411              19    197       229    197   \n",
       "11             329      27   294               8     70        97     19   \n",
       "12             104      27    75               2     41        43      5   \n",
       "13             124       2   120               2      7        53     10   \n",
       "14             199       7   191               1     24        57      3   \n",
       "15              79       0    78               1      8        21      1   \n",
       "16               9       1     8               0      6         3      0   \n",
       "17              39      35     4               0     16        12      2   \n",
       "18              57      22    34               1     10         7     11   \n",
       "19             143      78    54              11     19        32     15   \n",
       "20               5       3     2               0      0         3      0   \n",
       "21              13       2    11               0      1         7      2   \n",
       "22              13       4     9               0      1         2      3   \n",
       "23              14       1    13               0      1         0      7   \n",
       "24             393       2   386               5     69       206     17   \n",
       "25              72       2    70               0     13        16     11   \n",
       "26             200      13   176              11     16        44     70   \n",
       "27           28230   19892  7968             370  12618     10214   1094   \n",
       "28             220     149    70               1     82        98      9   \n",
       "29            2297     819  1464              14    874      1076     70   \n",
       "30              14       5     9               0      2         3      0   \n",
       "..             ...     ...   ...             ...    ...       ...    ...   \n",
       "158            257     189    58              10    114        83     15   \n",
       "159            471      17   443              11     48       144     46   \n",
       "160           1175     657   471              47    306       461    140   \n",
       "161             59      34    23               2     26        13      4   \n",
       "162             30       0    30               0      4        16      1   \n",
       "163            203       2   195               6     44        95      9   \n",
       "164          10215     531  9356             328   1067      3610    483   \n",
       "165             27       7    18               2      1         9      3   \n",
       "166            627     252   355              20     40       185    145   \n",
       "167            172       4   162               6     15        50     37   \n",
       "168             41       1    36               4      4         8      7   \n",
       "169             41      15    24               2     10        11      4   \n",
       "170            223       3   215               5     29       104      2   \n",
       "171             22      17     4               1     10         7      0   \n",
       "172             27       4    22               1      1         5      3   \n",
       "173             10       5     5               0      3         2      3   \n",
       "174             50       1    47               2      3         8      3   \n",
       "175            297      33   250              14     29       192      5   \n",
       "176             15       0    14               1      2         4      2   \n",
       "177             44      26    18               0     16        14      2   \n",
       "178            150     119    23               8     40        41     28   \n",
       "179            591       7   573              11     82       331     12   \n",
       "180             51       0    49               2     12        22      0   \n",
       "181             68      31    30               7     13        19      5   \n",
       "182            735     409   282              44    182       163    125   \n",
       "183             16       6     9               1      3         0      5   \n",
       "184            125       9   113               3     29        38     10   \n",
       "185            179      89    82               8     13        37     64   \n",
       "186             96       2    92               2      8        48      6   \n",
       "187            166     100    61               5     44        61     14   \n",
       "\n",
       "     caucasian  american_indian_alaskan_native  filipino  unknown_ethnicity  \n",
       "1            6                               0         0                  4  \n",
       "2           62                               3        79                 26  \n",
       "3           20                               0         0                  2  \n",
       "4            7                               0         1                  2  \n",
       "5           19                               1         1                  2  \n",
       "6           73                               0         6                 14  \n",
       "7           37                               2         4                  5  \n",
       "8          211                               5        40                 93  \n",
       "9           27                               0         6                  2  \n",
       "10         116                               3       103                 52  \n",
       "11         107                               1        10                 25  \n",
       "12           6                               1         2                  6  \n",
       "13          46                               1         2                  5  \n",
       "14         101                               1         4                  9  \n",
       "15          33                               1         9                  6  \n",
       "16           0                               0         0                  0  \n",
       "17           4                               0         3                  2  \n",
       "18          21                               0         4                  4  \n",
       "19          42                               0        15                 20  \n",
       "20           2                               0         0                  0  \n",
       "21           1                               0         1                  1  \n",
       "22           4                               0         1                  2  \n",
       "23           3                               1         2                  0  \n",
       "24          67                               5        15                 14  \n",
       "25          27                               0         4                  1  \n",
       "26          37                               1        13                 19  \n",
       "27        1958                             131       740               1475  \n",
       "28          12                               1        14                  4  \n",
       "29         173                              10        41                 53  \n",
       "30           9                               0         0                  0  \n",
       "..         ...                             ...       ...                ...  \n",
       "158          6                               2        10                 27  \n",
       "159        160                               7        20                 46  \n",
       "160         88                               2        88                 90  \n",
       "161          9                               2         0                  5  \n",
       "162          8                               0         0                  1  \n",
       "163         36                               0        10                  9  \n",
       "164       3843                             153       245                814  \n",
       "165          7                               0         5                  2  \n",
       "166        148                               2        52                 55  \n",
       "167         31                               1        14                 24  \n",
       "168          7                               0         6                  9  \n",
       "169          9                               0         0                  7  \n",
       "170         75                               1         5                  7  \n",
       "171          4                               0         0                  1  \n",
       "172         12                               0         2                  4  \n",
       "173          1                               0         1                  0  \n",
       "174         26                               0         0                 10  \n",
       "175         34                               5         9                 23  \n",
       "176          5                               0         0                  2  \n",
       "177          7                               1         3                  1  \n",
       "178          9                               0        12                 20  \n",
       "179        124                               5         8                 29  \n",
       "180         11                               1         0                  5  \n",
       "181         16                               0         6                  9  \n",
       "182         81                               4        78                102  \n",
       "183          7                               0         0                  1  \n",
       "184         32                               7         4                  5  \n",
       "185         25                               0        18                 22  \n",
       "186         23                               1         7                  3  \n",
       "187         21                               0        11                 15  \n",
       "\n",
       "[187 rows x 13 columns]"
      ]
     },
     "execution_count": 39,
     "metadata": {},
     "output_type": "execute_result"
    }
   ],
   "source": [
    "#changing data types of data set from string to int\n",
    "def change_list_type(column):\n",
    "    \"\"\"This function will take in a column name in the dataframe and will convert it\n",
    "    from string to int data type.\"\"\"\n",
    "    job_applicants_df[column] = [int(index) for index in job_applicants_df[column]] \n",
    "\n",
    "change_list_type(\"apps_received\")\n",
    "change_list_type(\"female\")\n",
    "change_list_type(\"male\")\n",
    "change_list_type(\"unknown_gender\")\n",
    "change_list_type(\"hispanic\")\n",
    "change_list_type(\"black\")\n",
    "change_list_type(\"asian\")\n",
    "change_list_type(\"caucasian\")\n",
    "change_list_type(\"american_indian_alaskan_native\")\n",
    "change_list_type(\"filipino\")\n",
    "change_list_type(\"unknown_ethnicity\")\n",
    "job_applicants_df"
   ]
  },
  {
   "cell_type": "markdown",
   "metadata": {},
   "source": [
    "## Basic Data Analysis"
   ]
  },
  {
   "cell_type": "code",
   "execution_count": 40,
   "metadata": {},
   "outputs": [
    {
     "name": "stdout",
     "output_type": "stream",
     "text": [
      "       apps_received        female         male  unknown_gender         black  \\\n",
      "count     187.000000    187.000000   187.000000      187.000000    187.000000   \n",
      "mean      499.721925    199.032086   291.705882        8.983957    144.529412   \n",
      "std      2252.044225   1465.997836   991.023862       36.558022    948.290580   \n",
      "min         5.000000      0.000000     2.000000        0.000000      0.000000   \n",
      "25%        36.500000      2.000000    26.000000        0.000000      5.000000   \n",
      "50%       100.000000     13.000000    70.000000        2.000000     14.000000   \n",
      "75%       260.000000     59.500000   166.000000        6.000000     41.500000   \n",
      "max     28230.000000  19892.000000  9356.000000      370.000000  12618.000000   \n",
      "\n",
      "           hispanic        asian    caucasian  american_indian_alaskan_native  \\\n",
      "count    187.000000   187.000000   187.000000                      187.000000   \n",
      "mean     182.165775    37.604278    84.470588                        3.374332   \n",
      "std      824.193375    98.941786   320.911291                       14.938187   \n",
      "min        0.000000     0.000000     0.000000                        0.000000   \n",
      "25%        9.500000     3.000000     9.000000                        0.000000   \n",
      "50%       24.000000     9.000000    26.000000                        1.000000   \n",
      "75%       96.500000    28.500000    63.500000                        2.000000   \n",
      "max    10214.000000  1094.000000  3843.000000                      153.000000   \n",
      "\n",
      "         filipino  unknown_ethnicity  \n",
      "count  187.000000         187.000000  \n",
      "mean    19.631016          27.946524  \n",
      "std     61.753827         123.897752  \n",
      "min      0.000000           0.000000  \n",
      "25%      1.000000           2.000000  \n",
      "50%      5.000000           6.000000  \n",
      "75%     13.000000          19.500000  \n",
      "max    740.000000        1475.000000  \n",
      "{'max': 28230, 'min': 5, 'median': 100.0, 'mode': 0    13\n",
      "1    14\n",
      "2    16\n",
      "3    28\n",
      "dtype: int64, 'mean': 499.72192513368987} {'max': 19892, 'min': 0, 'median': 13.0, 'mode': 0    1\n",
      "dtype: int64, 'mean': 199.03208556149733} {'max': 10214, 'min': 0, 'median': 24.0, 'mode': 0    3\n",
      "dtype: int64, 'mean': 182.1657754010695} {'max': 12618, 'min': 0, 'median': 14.0, 'mode': 0    1\n",
      "dtype: int64, 'mean': 144.52941176470588} {'max': 1094, 'min': 0, 'median': 9.0, 'mode': 0    0\n",
      "dtype: int64, 'mean': 37.60427807486631} {'max': 3843, 'min': 0, 'median': 26.0, 'mode': 0    11\n",
      "dtype: int64, 'mean': 84.47058823529412} {'max': 153, 'min': 0, 'median': 1.0, 'mode': 0    0\n",
      "dtype: int64, 'mean': 3.374331550802139} {'max': 740, 'min': 0, 'median': 5.0, 'mode': 0    0\n",
      "dtype: int64, 'mean': 19.63101604278075} {'max': 1475, 'min': 0, 'median': 6.0, 'mode': 0    2\n",
      "dtype: int64, 'mean': 27.946524064171122}\n"
     ]
    }
   ],
   "source": [
    "print job_applicants_df.describe()\n",
    "def mean_median_mode_max_min(list_):\n",
    "    mean = list_.mean()\n",
    "    median = list_.median()\n",
    "    mode = list_.mode()\n",
    "    max_ = list_.max()\n",
    "    min_ = list_.min()\n",
    "    mean_median_mode_max_min_list = {\"mean\" : mean, \"median\" : median, \"mode\" : mode, \"max\" : max_, \"min\" : min_}\n",
    "    return mean_median_mode_max_min_list\n",
    "\n",
    "#Job Applications mean, median, mode, max, min\n",
    "job_apps_received_stats = mean_median_mode_max_min(job_applicants_df[\"apps_received\"])\n",
    "\n",
    "#Females applied mean, median, mode, max, min\n",
    "females_applied_stats = mean_median_mode_max_min(job_applicants_df[\"female\"])\n",
    "\n",
    "#Males applied mean, median, mode, max, min\n",
    "males_applied_stats = mean_median_mode_max_min(job_applicants_df[\"male\"])\n",
    "\n",
    "#Unknown gender applied mean, median, mode, max, min\n",
    "unknown_gender_applied_stats = mean_median_mode_max_min(job_applicants_df[\"unknown_gender\"])\n",
    "\n",
    "#hispanic applied mean, median, mode, max, min\n",
    "hispanic_applied_stats = mean_median_mode_max_min(job_applicants_df[\"hispanic\"])\n",
    "\n",
    "#black applied mean, median, mode, max, min\n",
    "black_applied_stats = mean_median_mode_max_min(job_applicants_df[\"black\"])\n",
    "\n",
    "#asian applied mean, median, mode, max, min\n",
    "asian_applied_stats = mean_median_mode_max_min(job_applicants_df[\"asian\"])\n",
    "\n",
    "#caucasian applied mean, median, mode, max, min\n",
    "caucasian_applied_stats = mean_median_mode_max_min(job_applicants_df[\"caucasian\"])\n",
    "\n",
    "#american indian alaskan native applied mean, median, mode, max, min\n",
    "american_indian_alaskan_native_applied_stats = mean_median_mode_max_min(job_applicants_df[\"american_indian_alaskan_native\"])\n",
    "\n",
    "#filipino indian alaskan native applied mean, median, mode, max, min\n",
    "filipino_applied_stats = mean_median_mode_max_min(job_applicants_df[\"filipino\"])\n",
    "\n",
    "#unknown_ethnicity applied mean, median, mode, max, min\n",
    "unknown_ethnicity_applied_stats = mean_median_mode_max_min(job_applicants_df[\"unknown_ethnicity\"])\n",
    "\n",
    "print job_apps_received_stats, females_applied_stats, hispanic_applied_stats, black_applied_stats, asian_applied_stats, caucasian_applied_stats, american_indian_alaskan_native_applied_stats, filipino_applied_stats, unknown_ethnicity_applied_stats\n"
   ]
  },
  {
   "cell_type": "code",
   "execution_count": 41,
   "metadata": {},
   "outputs": [
    {
     "name": "stdout",
     "output_type": "stream",
     "text": [
      "                                apps_received    female      male  \\\n",
      "apps_received                        1.000000  0.934607  0.856304   \n",
      "female                               0.934607  1.000000  0.616654   \n",
      "male                                 0.856304  0.616654  1.000000   \n",
      "unknown_gender                       0.910747  0.756574  0.913549   \n",
      "black                                0.962999  0.984979  0.702395   \n",
      "hispanic                             0.996855  0.925759  0.862779   \n",
      "asian                                0.916958  0.838040  0.811409   \n",
      "caucasian                            0.729072  0.466540  0.933016   \n",
      "american_indian_alaskan_native       0.867391  0.659395  0.960018   \n",
      "filipino                             0.948226  0.904087  0.784891   \n",
      "unknown_ethnicity                    0.976884  0.883055  0.877777   \n",
      "\n",
      "                                unknown_gender     black  hispanic     asian  \\\n",
      "apps_received                         0.910747  0.962999  0.996855  0.916958   \n",
      "female                                0.756574  0.984979  0.925759  0.838040   \n",
      "male                                  0.913549  0.702395  0.862779  0.811409   \n",
      "unknown_gender                        1.000000  0.783633  0.896269  0.884602   \n",
      "black                                 0.783633  1.000000  0.958350  0.850503   \n",
      "hispanic                              0.896269  0.958350  1.000000  0.902900   \n",
      "asian                                 0.884602  0.850503  0.902900  1.000000   \n",
      "caucasian                             0.911276  0.522865  0.724473  0.714365   \n",
      "american_indian_alaskan_native        0.966435  0.711528  0.862514  0.808820   \n",
      "filipino                              0.881127  0.908209  0.936003  0.978089   \n",
      "unknown_ethnicity                     0.971928  0.903173  0.964194  0.917445   \n",
      "\n",
      "                                caucasian  american_indian_alaskan_native  \\\n",
      "apps_received                    0.729072                        0.867391   \n",
      "female                           0.466540                        0.659395   \n",
      "male                             0.933016                        0.960018   \n",
      "unknown_gender                   0.911276                        0.966435   \n",
      "black                            0.522865                        0.711528   \n",
      "hispanic                         0.724473                        0.862514   \n",
      "asian                            0.714365                        0.808820   \n",
      "caucasian                        1.000000                        0.962816   \n",
      "american_indian_alaskan_native   0.962816                        1.000000   \n",
      "filipino                         0.674071                        0.799157   \n",
      "unknown_ethnicity                0.818153                        0.924118   \n",
      "\n",
      "                                filipino  unknown_ethnicity  \n",
      "apps_received                   0.948226           0.976884  \n",
      "female                          0.904087           0.883055  \n",
      "male                            0.784891           0.877777  \n",
      "unknown_gender                  0.881127           0.971928  \n",
      "black                           0.908209           0.903173  \n",
      "hispanic                        0.936003           0.964194  \n",
      "asian                           0.978089           0.917445  \n",
      "caucasian                       0.674071           0.818153  \n",
      "american_indian_alaskan_native  0.799157           0.924118  \n",
      "filipino                        1.000000           0.936025  \n",
      "unknown_ethnicity               0.936025           1.000000  \n"
     ]
    }
   ],
   "source": [
    "job_applicant_df_correlations = job_applicants_df.corr()\n",
    "print job_applicant_df_correlations"
   ]
  },
  {
   "cell_type": "markdown",
   "metadata": {},
   "source": [
    "# Basic Vizualization"
   ]
  },
  {
   "cell_type": "code",
   "execution_count": 67,
   "metadata": {},
   "outputs": [
    {
     "data": {
      "text/plain": [
       "(array([173.,   7.,   2.,   3.,   0.,   0.,   0.,   0.,   0.,   1.,   0.,\n",
       "          0.,   0.,   0.,   0.,   0.,   0.,   0.,   0.,   0.,   0.,   0.,\n",
       "          0.,   0.,   1.]),\n",
       " array([5.0000e+00, 1.1340e+03, 2.2630e+03, 3.3920e+03, 4.5210e+03,\n",
       "        5.6500e+03, 6.7790e+03, 7.9080e+03, 9.0370e+03, 1.0166e+04,\n",
       "        1.1295e+04, 1.2424e+04, 1.3553e+04, 1.4682e+04, 1.5811e+04,\n",
       "        1.6940e+04, 1.8069e+04, 1.9198e+04, 2.0327e+04, 2.1456e+04,\n",
       "        2.2585e+04, 2.3714e+04, 2.4843e+04, 2.5972e+04, 2.7101e+04,\n",
       "        2.8230e+04]),\n",
       " <a list of 25 Patch objects>)"
      ]
     },
     "execution_count": 67,
     "metadata": {},
     "output_type": "execute_result"
    },
    {
     "data": {
      "image/png": "[encoded data removed]",
      "text/plain": [
       "<Figure size 432x288 with 1 Axes>"
      ]
     },
     "metadata": {
      "needs_background": "light"
     },
     "output_type": "display_data"
    }
   ],
   "source": [
    "#apps received histogram\n",
    "apps_received_df = job_applicants_df[\"apps_received\"];\n",
    "plt.xlabel(\"Persons Applied\")\n",
    "plt.ylabel(\"Record Number\")\n",
    "plt.title(\"Distribution of Number of Applicants\")\n",
    "plt.hist(apps_received_df, 25)"
   ]
  },
  {
   "cell_type": "code",
   "execution_count": 43,
   "metadata": {},
   "outputs": [
    {
     "data": {
      "text/plain": [
       "(array([ 3.,  3., 11.,  8., 13., 12., 21., 10., 22., 14., 19., 12., 10.,\n",
       "         7.,  6.,  5.,  1.,  5.,  0.,  3.,  0.,  0.,  1.,  0.,  1.]),\n",
       " array([0.69897   , 0.84903964, 0.99910927, 1.14917891, 1.29924854,\n",
       "        1.44931818, 1.59938781, 1.74945745, 1.89952708, 2.04959672,\n",
       "        2.19966635, 2.34973599, 2.49980562, 2.64987526, 2.79994489,\n",
       "        2.95001453, 3.10008416, 3.2501538 , 3.40022343, 3.55029307,\n",
       "        3.7003627 , 3.85043234, 4.00050197, 4.15057161, 4.30064124,\n",
       "        4.45071088]),\n",
       " <a list of 25 Patch objects>)"
      ]
     },
     "execution_count": 43,
     "metadata": {},
     "output_type": "execute_result"
    },
    {
     "data": {
      "image/png": "[encoded data removed]",
      "text/plain": [
       "<Figure size 432x288 with 1 Axes>"
      ]
     },
     "metadata": {
      "needs_background": "light"
     },
     "output_type": "display_data"
    }
   ],
   "source": [
    "log10apps_received = np.log10(job_applicants_df[\"apps_received\"])\n",
    "plt.xlabel(\"Persons Applied\")\n",
    "plt.ylabel(\"Record Number\")\n",
    "plt.title(\"Distribution of Number of Applicants log10\")\n",
    "plt.hist(log10apps_received, 25)"
   ]
  },
  {
   "cell_type": "code",
   "execution_count": 82,
   "metadata": {},
   "outputs": [
    {
     "ename": "IndexingError",
     "evalue": "Too many indexers",
     "output_type": "error",
     "traceback": [
      "\u001b[1;31m\u001b[0m",
      "\u001b[1;31mIndexingError\u001b[0mTraceback (most recent call last)",
      "\u001b[1;32m<ipython-input-82-96b2559ed2ff>\u001b[0m in \u001b[0;36m<module>\u001b[1;34m()\u001b[0m\n\u001b[0;32m      1\u001b[0m \u001b[0mlength\u001b[0m \u001b[1;33m=\u001b[0m \u001b[0mlen\u001b[0m\u001b[1;33m(\u001b[0m\u001b[0mjob_applicants_df\u001b[0m\u001b[1;33m[\u001b[0m\u001b[1;34m\"job_description\"\u001b[0m\u001b[1;33m]\u001b[0m\u001b[1;33m)\u001b[0m\u001b[1;33m\u001b[0m\u001b[0m\n\u001b[1;32m----> 2\u001b[1;33m \u001b[0mlabels\u001b[0m \u001b[1;33m=\u001b[0m \u001b[0mjob_applicants_df\u001b[0m\u001b[1;33m[\u001b[0m\u001b[1;34m\"job_description\"\u001b[0m\u001b[1;33m]\u001b[0m\u001b[1;33m.\u001b[0m\u001b[0miloc\u001b[0m\u001b[1;33m[\u001b[0m\u001b[1;36m0\u001b[0m\u001b[1;33m,\u001b[0m\u001b[1;36m1\u001b[0m\u001b[1;33m]\u001b[0m\u001b[1;33m\u001b[0m\u001b[0m\n\u001b[0m\u001b[0;32m      3\u001b[0m \u001b[1;32mprint\u001b[0m \u001b[0mlabels\u001b[0m\u001b[1;33m\u001b[0m\u001b[0m\n\u001b[0;32m      4\u001b[0m \u001b[1;31m#plt.xticks(length, job_applicants_df[\"job_description\"], fontsize=5, rotation=30)\u001b[0m\u001b[1;33m\u001b[0m\u001b[1;33m\u001b[0m\u001b[0m\n\u001b[0;32m      5\u001b[0m \u001b[1;31m#plt.bar(job_applicants_df[\"job_description\"], apps_received_df)\u001b[0m\u001b[1;33m\u001b[0m\u001b[1;33m\u001b[0m\u001b[0m\n",
      "\u001b[1;32mC:\\Users\\franc\\Anaconda2\\lib\\site-packages\\pandas\\core\\indexing.pyc\u001b[0m in \u001b[0;36m__getitem__\u001b[1;34m(self, key)\u001b[0m\n\u001b[0;32m   1492\u001b[0m             \u001b[1;32mexcept\u001b[0m \u001b[1;33m(\u001b[0m\u001b[0mKeyError\u001b[0m\u001b[1;33m,\u001b[0m \u001b[0mIndexError\u001b[0m\u001b[1;33m,\u001b[0m \u001b[0mAttributeError\u001b[0m\u001b[1;33m)\u001b[0m\u001b[1;33m:\u001b[0m\u001b[1;33m\u001b[0m\u001b[0m\n\u001b[0;32m   1493\u001b[0m                 \u001b[1;32mpass\u001b[0m\u001b[1;33m\u001b[0m\u001b[0m\n\u001b[1;32m-> 1494\u001b[1;33m             \u001b[1;32mreturn\u001b[0m \u001b[0mself\u001b[0m\u001b[1;33m.\u001b[0m\u001b[0m_getitem_tuple\u001b[0m\u001b[1;33m(\u001b[0m\u001b[0mkey\u001b[0m\u001b[1;33m)\u001b[0m\u001b[1;33m\u001b[0m\u001b[0m\n\u001b[0m\u001b[0;32m   1495\u001b[0m         \u001b[1;32melse\u001b[0m\u001b[1;33m:\u001b[0m\u001b[1;33m\u001b[0m\u001b[0m\n\u001b[0;32m   1496\u001b[0m             \u001b[1;31m# we by definition only have the 0th axis\u001b[0m\u001b[1;33m\u001b[0m\u001b[1;33m\u001b[0m\u001b[0m\n",
      "\u001b[1;32mC:\\Users\\franc\\Anaconda2\\lib\\site-packages\\pandas\\core\\indexing.pyc\u001b[0m in \u001b[0;36m_getitem_tuple\u001b[1;34m(self, tup)\u001b[0m\n\u001b[0;32m   2141\u001b[0m     \u001b[1;32mdef\u001b[0m \u001b[0m_getitem_tuple\u001b[0m\u001b[1;33m(\u001b[0m\u001b[0mself\u001b[0m\u001b[1;33m,\u001b[0m \u001b[0mtup\u001b[0m\u001b[1;33m)\u001b[0m\u001b[1;33m:\u001b[0m\u001b[1;33m\u001b[0m\u001b[0m\n\u001b[0;32m   2142\u001b[0m \u001b[1;33m\u001b[0m\u001b[0m\n\u001b[1;32m-> 2143\u001b[1;33m         \u001b[0mself\u001b[0m\u001b[1;33m.\u001b[0m\u001b[0m_has_valid_tuple\u001b[0m\u001b[1;33m(\u001b[0m\u001b[0mtup\u001b[0m\u001b[1;33m)\u001b[0m\u001b[1;33m\u001b[0m\u001b[0m\n\u001b[0m\u001b[0;32m   2144\u001b[0m         \u001b[1;32mtry\u001b[0m\u001b[1;33m:\u001b[0m\u001b[1;33m\u001b[0m\u001b[0m\n\u001b[0;32m   2145\u001b[0m             \u001b[1;32mreturn\u001b[0m \u001b[0mself\u001b[0m\u001b[1;33m.\u001b[0m\u001b[0m_getitem_lowerdim\u001b[0m\u001b[1;33m(\u001b[0m\u001b[0mtup\u001b[0m\u001b[1;33m)\u001b[0m\u001b[1;33m\u001b[0m\u001b[0m\n",
      "\u001b[1;32mC:\\Users\\franc\\Anaconda2\\lib\\site-packages\\pandas\\core\\indexing.pyc\u001b[0m in \u001b[0;36m_has_valid_tuple\u001b[1;34m(self, key)\u001b[0m\n\u001b[0;32m    219\u001b[0m         \u001b[1;32mfor\u001b[0m \u001b[0mi\u001b[0m\u001b[1;33m,\u001b[0m \u001b[0mk\u001b[0m \u001b[1;32min\u001b[0m \u001b[0menumerate\u001b[0m\u001b[1;33m(\u001b[0m\u001b[0mkey\u001b[0m\u001b[1;33m)\u001b[0m\u001b[1;33m:\u001b[0m\u001b[1;33m\u001b[0m\u001b[0m\n\u001b[0;32m    220\u001b[0m             \u001b[1;32mif\u001b[0m \u001b[0mi\u001b[0m \u001b[1;33m>=\u001b[0m \u001b[0mself\u001b[0m\u001b[1;33m.\u001b[0m\u001b[0mobj\u001b[0m\u001b[1;33m.\u001b[0m\u001b[0mndim\u001b[0m\u001b[1;33m:\u001b[0m\u001b[1;33m\u001b[0m\u001b[0m\n\u001b[1;32m--> 221\u001b[1;33m                 \u001b[1;32mraise\u001b[0m \u001b[0mIndexingError\u001b[0m\u001b[1;33m(\u001b[0m\u001b[1;34m'Too many indexers'\u001b[0m\u001b[1;33m)\u001b[0m\u001b[1;33m\u001b[0m\u001b[0m\n\u001b[0m\u001b[0;32m    222\u001b[0m             \u001b[1;32mtry\u001b[0m\u001b[1;33m:\u001b[0m\u001b[1;33m\u001b[0m\u001b[0m\n\u001b[0;32m    223\u001b[0m                 \u001b[0mself\u001b[0m\u001b[1;33m.\u001b[0m\u001b[0m_validate_key\u001b[0m\u001b[1;33m(\u001b[0m\u001b[0mk\u001b[0m\u001b[1;33m,\u001b[0m \u001b[0mi\u001b[0m\u001b[1;33m)\u001b[0m\u001b[1;33m\u001b[0m\u001b[0m\n",
      "\u001b[1;31mIndexingError\u001b[0m: Too many indexers"
     ]
    }
   ],
   "source": [
    "length = len(job_applicants_df[\"job_description\"])\n",
    "labels = job_applicants_df[\"job_description\"].iloc[0,1]\n",
    "print labels\n",
    "#plt.xticks(length, job_applicants_df[\"job_description\"], fontsize=5, rotation=30)\n",
    "#plt.bar(job_applicants_df[\"job_description\"], apps_received_df)"
   ]
  },
  {
   "cell_type": "code",
   "execution_count": 44,
   "metadata": {},
   "outputs": [
    {
     "data": {
      "text/plain": [
       "(array([181.,   4.,   1.,   0.,   0.,   0.,   0.,   0.,   0.,   0.,   0.,\n",
       "          0.,   0.,   0.,   0.,   0.,   0.,   0.,   0.,   0.,   0.,   0.,\n",
       "          0.,   0.,   1.]),\n",
       " array([    0.  ,   795.68,  1591.36,  2387.04,  3182.72,  3978.4 ,\n",
       "         4774.08,  5569.76,  6365.44,  7161.12,  7956.8 ,  8752.48,\n",
       "         9548.16, 10343.84, 11139.52, 11935.2 , 12730.88, 13526.56,\n",
       "        14322.24, 15117.92, 15913.6 , 16709.28, 17504.96, 18300.64,\n",
       "        19096.32, 19892.  ]),\n",
       " <a list of 25 Patch objects>)"
      ]
     },
     "execution_count": 44,
     "metadata": {},
     "output_type": "execute_result"
    },
    {
     "data": {
      "image/png": "[encoded data removed]",
      "text/plain": [
       "<Figure size 432x288 with 1 Axes>"
      ]
     },
     "metadata": {
      "needs_background": "light"
     },
     "output_type": "display_data"
    }
   ],
   "source": [
    "#female apps received histogram\n",
    "female_apps_df = job_applicants_df[\"female\"];\n",
    "plt.xlabel(\"# of Females Applied\")\n",
    "plt.ylabel(\"Record Number\")\n",
    "plt.title(\"Distribution of Number of Female Applicants\")\n",
    "plt.hist(female_apps_df, 25)"
   ]
  },
  {
   "cell_type": "code",
   "execution_count": 45,
   "metadata": {},
   "outputs": [
    {
     "data": {
      "text/plain": [
       "(array([37., 15.,  8.,  7., 13., 10., 10., 12., 18.,  5., 10., 10.,  5.,\n",
       "         7.,  3., 10.,  2.,  2.,  2.,  0.,  0.,  0.,  0.,  0.,  1.]),\n",
       " array([0.        , 0.17194714, 0.34389428, 0.51584141, 0.68778855,\n",
       "        0.85973569, 1.03168283, 1.20362997, 1.3755771 , 1.54752424,\n",
       "        1.71947138, 1.89141852, 2.06336566, 2.23531279, 2.40725993,\n",
       "        2.57920707, 2.75115421, 2.92310135, 3.09504848, 3.26699562,\n",
       "        3.43894276, 3.6108899 , 3.78283704, 3.95478417, 4.12673131,\n",
       "        4.29867845]),\n",
       " <a list of 25 Patch objects>)"
      ]
     },
     "execution_count": 45,
     "metadata": {},
     "output_type": "execute_result"
    },
    {
     "data": {
      "image/png": "[encoded data removed]",
      "text/plain": [
       "<Figure size 432x288 with 1 Axes>"
      ]
     },
     "metadata": {
      "needs_background": "light"
     },
     "output_type": "display_data"
    }
   ],
   "source": [
    "job_applicants_df[\"female\"] = job_applicants_df[\"female\"].replace(0, 1)\n",
    "log10female_apps_received = np.log10(job_applicants_df[\"female\"])\n",
    "\n",
    "plt.xlabel(\"# of Females Applied\")\n",
    "plt.ylabel(\"Record Number\")\n",
    "plt.title(\"Distribution of Number Female of Applicants log10\")\n",
    "plt.hist(log10female_apps_received, 25)"
   ]
  },
  {
   "cell_type": "code",
   "execution_count": 46,
   "metadata": {},
   "outputs": [
    {
     "data": {
      "text/plain": [
       "(array([166.,  10.,   0.,   5.,   1.,   0.,   0.,   0.,   3.,   0.,   0.,\n",
       "          0.,   0.,   0.,   0.,   0.,   0.,   0.,   0.,   0.,   0.,   1.,\n",
       "          0.,   0.,   1.]),\n",
       " array([2.00000e+00, 3.76160e+02, 7.50320e+02, 1.12448e+03, 1.49864e+03,\n",
       "        1.87280e+03, 2.24696e+03, 2.62112e+03, 2.99528e+03, 3.36944e+03,\n",
       "        3.74360e+03, 4.11776e+03, 4.49192e+03, 4.86608e+03, 5.24024e+03,\n",
       "        5.61440e+03, 5.98856e+03, 6.36272e+03, 6.73688e+03, 7.11104e+03,\n",
       "        7.48520e+03, 7.85936e+03, 8.23352e+03, 8.60768e+03, 8.98184e+03,\n",
       "        9.35600e+03]),\n",
       " <a list of 25 Patch objects>)"
      ]
     },
     "execution_count": 46,
     "metadata": {},
     "output_type": "execute_result"
    },
    {
     "data": {
      "image/png": "[encoded data removed]",
      "text/plain": [
       "<Figure size 432x288 with 1 Axes>"
      ]
     },
     "metadata": {
      "needs_background": "light"
     },
     "output_type": "display_data"
    }
   ],
   "source": [
    "#male apps received histogram\n",
    "male_apps_df = job_applicants_df[\"male\"];\n",
    "plt.xlabel(\"# of Males Applied\")\n",
    "plt.ylabel(\"Record Number\")\n",
    "plt.title(\"Distribution of Number of male Applicants\")\n",
    "plt.hist(male_apps_df, 25)"
   ]
  },
  {
   "cell_type": "code",
   "execution_count": 47,
   "metadata": {},
   "outputs": [
    {
     "data": {
      "text/plain": [
       "(array([ 2.,  0.,  4.,  3.,  7., 16.,  6., 15., 20., 15., 17., 20., 13.,\n",
       "        11., 12.,  8.,  5.,  2.,  2.,  4.,  0.,  3.,  0.,  0.,  2.]),\n",
       " array([0.30103   , 0.4478324 , 0.59463481, 0.74143722, 0.88823963,\n",
       "        1.03504204, 1.18184445, 1.32864686, 1.47544927, 1.62225167,\n",
       "        1.76905408, 1.91585649, 2.0626589 , 2.20946131, 2.35626372,\n",
       "        2.50306613, 2.64986853, 2.79667094, 2.94347335, 3.09027576,\n",
       "        3.23707817, 3.38388058, 3.53068299, 3.6774854 , 3.8242878 ,\n",
       "        3.97109021]),\n",
       " <a list of 25 Patch objects>)"
      ]
     },
     "execution_count": 47,
     "metadata": {},
     "output_type": "execute_result"
    },
    {
     "data": {
      "image/png": "[encoded data removed]",
      "text/plain": [
       "<Figure size 432x288 with 1 Axes>"
      ]
     },
     "metadata": {
      "needs_background": "light"
     },
     "output_type": "display_data"
    }
   ],
   "source": [
    "log10male_apps_received = np.log10(job_applicants_df[\"male\"])\n",
    "plt.xlabel(\"# of Males Applied\")\n",
    "plt.ylabel(\"Record Number\")\n",
    "plt.title(\"Distribution of Number of male Applicants log10\")\n",
    "plt.hist(log10male_apps_received, 25)"
   ]
  },
  {
   "cell_type": "code",
   "execution_count": 48,
   "metadata": {},
   "outputs": [
    {
     "data": {
      "text/plain": [
       "(array([167.,  12.,   5.,   1.,   0.,   0.,   0.,   0.,   0.,   0.,   0.,\n",
       "          0.,   0.,   0.,   0.,   0.,   0.,   0.,   0.,   0.,   0.,   0.,\n",
       "          1.,   0.,   1.]),\n",
       " array([  0. ,  14.8,  29.6,  44.4,  59.2,  74. ,  88.8, 103.6, 118.4,\n",
       "        133.2, 148. , 162.8, 177.6, 192.4, 207.2, 222. , 236.8, 251.6,\n",
       "        266.4, 281.2, 296. , 310.8, 325.6, 340.4, 355.2, 370. ]),\n",
       " <a list of 25 Patch objects>)"
      ]
     },
     "execution_count": 48,
     "metadata": {},
     "output_type": "execute_result"
    },
    {
     "data": {
      "image/png": "[encoded data removed]",
      "text/plain": [
       "<Figure size 432x288 with 1 Axes>"
      ]
     },
     "metadata": {
      "needs_background": "light"
     },
     "output_type": "display_data"
    }
   ],
   "source": [
    "#unknown gender apps received histogram\n",
    "unknown_genders_apps_df = job_applicants_df[\"unknown_gender\"];\n",
    "plt.xlabel(\"# of unknown_genders Applied\")\n",
    "plt.ylabel(\"Record Number\")\n",
    "plt.title(\"Distribution of Number of Unknown Gender Persons Applied\")\n",
    "plt.hist(unknown_genders_apps_df, 25)"
   ]
  },
  {
   "cell_type": "code",
   "execution_count": 49,
   "metadata": {},
   "outputs": [
    {
     "data": {
      "text/plain": [
       "(array([82.,  0., 22.,  0., 15., 10.,  9.,  5., 10.,  5.,  6.,  4.,  4.,\n",
       "         5.,  4.,  3.,  1.,  0.,  0.,  0.,  0.,  0.,  0.,  0.,  2.]),\n",
       " array([0.        , 0.10272807, 0.20545614, 0.30818421, 0.41091228,\n",
       "        0.51364034, 0.61636841, 0.71909648, 0.82182455, 0.92455262,\n",
       "        1.02728069, 1.13000876, 1.23273683, 1.3354649 , 1.43819297,\n",
       "        1.54092103, 1.6436491 , 1.74637717, 1.84910524, 1.95183331,\n",
       "        2.05456138, 2.15728945, 2.26001752, 2.36274559, 2.46547366,\n",
       "        2.56820172]),\n",
       " <a list of 25 Patch objects>)"
      ]
     },
     "execution_count": 49,
     "metadata": {},
     "output_type": "execute_result"
    },
    {
     "data": {
      "image/png": "[encoded data removed]",
      "text/plain": [
       "<Figure size 432x288 with 1 Axes>"
      ]
     },
     "metadata": {
      "needs_background": "light"
     },
     "output_type": "display_data"
    }
   ],
   "source": [
    "job_applicants_df[\"unknown_gender\"] = job_applicants_df[\"unknown_gender\"].replace(0, 1)\n",
    "log10unknown_gender_apps_received = np.log10(job_applicants_df[\"unknown_gender\"])\n",
    "plt.xlabel(\"# of unknown_gender Applied\")\n",
    "plt.ylabel(\"Record Number\")\n",
    "plt.title(\"Distribution of Number of unknown_gender Applicants\")\n",
    "plt.hist(log10unknown_gender_apps_received, 25)"
   ]
  },
  {
   "cell_type": "code",
   "execution_count": 50,
   "metadata": {},
   "outputs": [
    {
     "data": {
      "text/plain": [
       "(array([173.,   5.,   4.,   2.,   1.,   0.,   0.,   0.,   1.,   0.,   0.,\n",
       "          0.,   0.,   0.,   0.,   0.,   0.,   0.,   0.,   0.,   0.,   0.,\n",
       "          0.,   0.,   1.]),\n",
       " array([    0.  ,   408.56,   817.12,  1225.68,  1634.24,  2042.8 ,\n",
       "         2451.36,  2859.92,  3268.48,  3677.04,  4085.6 ,  4494.16,\n",
       "         4902.72,  5311.28,  5719.84,  6128.4 ,  6536.96,  6945.52,\n",
       "         7354.08,  7762.64,  8171.2 ,  8579.76,  8988.32,  9396.88,\n",
       "         9805.44, 10214.  ]),\n",
       " <a list of 25 Patch objects>)"
      ]
     },
     "execution_count": 50,
     "metadata": {},
     "output_type": "execute_result"
    },
    {
     "data": {
      "image/png": "[encoded data removed]",
      "text/plain": [
       "<Figure size 432x288 with 1 Axes>"
      ]
     },
     "metadata": {
      "needs_background": "light"
     },
     "output_type": "display_data"
    }
   ],
   "source": [
    "#hispanic apps received histogram\n",
    "hispanic_apps_df = job_applicants_df[\"hispanic\"];\n",
    "plt.xlabel(\"# of Hispanic Persons Applied\")\n",
    "plt.ylabel(\"Record Number\")\n",
    "plt.title(\"Distribution of Number of Hispanic Persons Applied\")\n",
    "plt.hist(hispanic_apps_df, 25)"
   ]
  },
  {
   "cell_type": "code",
   "execution_count": 51,
   "metadata": {},
   "outputs": [
    {
     "data": {
      "text/plain": [
       "(array([ 7.,  7., 10.,  6.,  4., 13., 16., 21., 14., 14., 22.,  4., 12.,\n",
       "        14.,  6.,  3.,  1.,  4.,  4.,  2.,  1.,  0.,  1.,  0.,  1.]),\n",
       " array([0.        , 0.16036783, 0.32073567, 0.4811035 , 0.64147134,\n",
       "        0.80183917, 0.962207  , 1.12257484, 1.28294267, 1.44331051,\n",
       "        1.60367834, 1.76404618, 1.92441401, 2.08478184, 2.24514968,\n",
       "        2.40551751, 2.56588535, 2.72625318, 2.88662101, 3.04698885,\n",
       "        3.20735668, 3.36772452, 3.52809235, 3.68846019, 3.84882802,\n",
       "        4.00919585]),\n",
       " <a list of 25 Patch objects>)"
      ]
     },
     "execution_count": 51,
     "metadata": {},
     "output_type": "execute_result"
    },
    {
     "data": {
      "image/png": "[encoded data removed]",
      "text/plain": [
       "<Figure size 432x288 with 1 Axes>"
      ]
     },
     "metadata": {
      "needs_background": "light"
     },
     "output_type": "display_data"
    }
   ],
   "source": [
    "job_applicants_df[\"hispanic\"] = job_applicants_df[\"hispanic\"].replace(0, 1)\n",
    "log10hispanic_apps_received = np.log10(job_applicants_df[\"hispanic\"])\n",
    "plt.xlabel(\"# of hispanic Applied\")\n",
    "plt.ylabel(\"Record Number\")\n",
    "plt.title(\"Distribution of Number of Hispanic Applicants log10\")\n",
    "plt.hist(log10hispanic_apps_received, 25)"
   ]
  },
  {
   "cell_type": "code",
   "execution_count": 52,
   "metadata": {},
   "outputs": [
    {
     "data": {
      "text/plain": [
       "(array([179.,   4.,   1.,   2.,   0.,   0.,   0.,   0.,   0.,   0.,   0.,\n",
       "          0.,   0.,   0.,   0.,   0.,   0.,   0.,   0.,   0.,   0.,   0.,\n",
       "          0.,   0.,   1.]),\n",
       " array([    0.  ,   504.72,  1009.44,  1514.16,  2018.88,  2523.6 ,\n",
       "         3028.32,  3533.04,  4037.76,  4542.48,  5047.2 ,  5551.92,\n",
       "         6056.64,  6561.36,  7066.08,  7570.8 ,  8075.52,  8580.24,\n",
       "         9084.96,  9589.68, 10094.4 , 10599.12, 11103.84, 11608.56,\n",
       "        12113.28, 12618.  ]),\n",
       " <a list of 25 Patch objects>)"
      ]
     },
     "execution_count": 52,
     "metadata": {},
     "output_type": "execute_result"
    },
    {
     "data": {
      "image/png": "[encoded data removed]",
      "text/plain": [
       "<Figure size 432x288 with 1 Axes>"
      ]
     },
     "metadata": {
      "needs_background": "light"
     },
     "output_type": "display_data"
    }
   ],
   "source": [
    "#black apps received histogram\n",
    "black_apps_df = job_applicants_df[\"black\"];\n",
    "plt.xlabel(\"# of Black Persons Applied\")\n",
    "plt.ylabel(\"Record Number\")\n",
    "plt.title(\"Distribution of Number of Black Persons Applied\")\n",
    "plt.hist(black_apps_df, 25)"
   ]
  },
  {
   "cell_type": "code",
   "execution_count": 53,
   "metadata": {},
   "outputs": [
    {
     "data": {
      "text/plain": [
       "(array([22.,  9.,  7.,  6., 14., 16., 20., 16., 19., 12.,  9., 12.,  3.,\n",
       "         8.,  3.,  3.,  1.,  3.,  1.,  1.,  1.,  0.,  0.,  0.,  1.]),\n",
       " array([0.        , 0.16403962, 0.32807924, 0.49211886, 0.65615848,\n",
       "        0.8201981 , 0.98423773, 1.14827735, 1.31231697, 1.47635659,\n",
       "        1.64039621, 1.80443583, 1.96847545, 2.13251507, 2.29655469,\n",
       "        2.46059431, 2.62463393, 2.78867356, 2.95271318, 3.1167528 ,\n",
       "        3.28079242, 3.44483204, 3.60887166, 3.77291128, 3.9369509 ,\n",
       "        4.10099052]),\n",
       " <a list of 25 Patch objects>)"
      ]
     },
     "execution_count": 53,
     "metadata": {},
     "output_type": "execute_result"
    },
    {
     "data": {
      "image/png": "[encoded data removed]",
      "text/plain": [
       "<Figure size 432x288 with 1 Axes>"
      ]
     },
     "metadata": {
      "needs_background": "light"
     },
     "output_type": "display_data"
    }
   ],
   "source": [
    "job_applicants_df[\"black\"] = job_applicants_df[\"black\"].replace(0, 1)\n",
    "log10black_apps_received = np.log10(job_applicants_df[\"black\"])\n",
    "plt.xlabel(\"# of black Applied\")\n",
    "plt.ylabel(\"Record Number\")\n",
    "plt.title(\"Distribution of Number of Black Applicants log10\")\n",
    "plt.hist(log10black_apps_received, 25)"
   ]
  },
  {
   "cell_type": "code",
   "execution_count": 54,
   "metadata": {},
   "outputs": [
    {
     "data": {
      "text/plain": [
       "(array([150.,  15.,   8.,   7.,   3.,   1.,   0.,   1.,   0.,   0.,   0.,\n",
       "          1.,   0.,   0.,   0.,   0.,   0.,   0.,   0.,   0.,   0.,   0.,\n",
       "          0.,   0.,   1.]),\n",
       " array([   0.  ,   43.76,   87.52,  131.28,  175.04,  218.8 ,  262.56,\n",
       "         306.32,  350.08,  393.84,  437.6 ,  481.36,  525.12,  568.88,\n",
       "         612.64,  656.4 ,  700.16,  743.92,  787.68,  831.44,  875.2 ,\n",
       "         918.96,  962.72, 1006.48, 1050.24, 1094.  ]),\n",
       " <a list of 25 Patch objects>)"
      ]
     },
     "execution_count": 54,
     "metadata": {},
     "output_type": "execute_result"
    },
    {
     "data": {
      "image/png": "[encoded data removed]",
      "text/plain": [
       "<Figure size 432x288 with 1 Axes>"
      ]
     },
     "metadata": {
      "needs_background": "light"
     },
     "output_type": "display_data"
    }
   ],
   "source": [
    "#asian apps received histogram\n",
    "asian_apps_df = job_applicants_df[\"asian\"];\n",
    "plt.xlabel(\"# of Asian Persons Applied\")\n",
    "plt.ylabel(\"Record Number\")\n",
    "plt.title(\"Distribution of Number of Asian Persons Applied\")\n",
    "plt.hist(asian_apps_df, 25)"
   ]
  },
  {
   "cell_type": "code",
   "execution_count": 55,
   "metadata": {},
   "outputs": [
    {
     "data": {
      "text/plain": [
       "(array([33.,  0., 11., 12., 10., 12., 11., 11., 12., 10., 12.,  6., 10.,\n",
       "         4.,  5.,  6.,  3.,  8.,  6.,  2.,  1.,  0.,  1.,  0.,  1.]),\n",
       " array([0.        , 0.12156069, 0.24312139, 0.36468208, 0.48624277,\n",
       "        0.60780346, 0.72936416, 0.85092485, 0.97248554, 1.09404624,\n",
       "        1.21560693, 1.33716762, 1.45872831, 1.58028901, 1.7018497 ,\n",
       "        1.82341039, 1.94497109, 2.06653178, 2.18809247, 2.30965316,\n",
       "        2.43121386, 2.55277455, 2.67433524, 2.79589594, 2.91745663,\n",
       "        3.03901732]),\n",
       " <a list of 25 Patch objects>)"
      ]
     },
     "execution_count": 55,
     "metadata": {},
     "output_type": "execute_result"
    },
    {
     "data": {
      "image/png": "[encoded data removed]",
      "text/plain": [
       "<Figure size 432x288 with 1 Axes>"
      ]
     },
     "metadata": {
      "needs_background": "light"
     },
     "output_type": "display_data"
    }
   ],
   "source": [
    "job_applicants_df[\"asian\"] = job_applicants_df[\"asian\"].replace(0, 1)\n",
    "log10black_apps_received = np.log10(job_applicants_df[\"asian\"])\n",
    "plt.xlabel(\"# of Asian Applied\")\n",
    "plt.ylabel(\"Record Number\")\n",
    "plt.title(\"Distribution of Number of Asian Applicants log10\")\n",
    "plt.hist(log10black_apps_received, 25)"
   ]
  },
  {
   "cell_type": "code",
   "execution_count": 56,
   "metadata": {},
   "outputs": [
    {
     "data": {
      "text/plain": [
       "(array([169.,  11.,   2.,   3.,   0.,   0.,   0.,   0.,   0.,   0.,   0.,\n",
       "          0.,   1.,   0.,   0.,   0.,   0.,   0.,   0.,   0.,   0.,   0.,\n",
       "          0.,   0.,   1.]),\n",
       " array([   0.  ,  153.72,  307.44,  461.16,  614.88,  768.6 ,  922.32,\n",
       "        1076.04, 1229.76, 1383.48, 1537.2 , 1690.92, 1844.64, 1998.36,\n",
       "        2152.08, 2305.8 , 2459.52, 2613.24, 2766.96, 2920.68, 3074.4 ,\n",
       "        3228.12, 3381.84, 3535.56, 3689.28, 3843.  ]),\n",
       " <a list of 25 Patch objects>)"
      ]
     },
     "execution_count": 56,
     "metadata": {},
     "output_type": "execute_result"
    },
    {
     "data": {
      "image/png": "[encoded data removed]",
      "text/plain": [
       "<Figure size 432x288 with 1 Axes>"
      ]
     },
     "metadata": {
      "needs_background": "light"
     },
     "output_type": "display_data"
    }
   ],
   "source": [
    "#caucasian apps received histogram\n",
    "caucasian_apps_df = job_applicants_df[\"caucasian\"];\n",
    "plt.xlabel(\"# of caucasian Persons Applied\")\n",
    "plt.ylabel(\"Record Number\")\n",
    "plt.title(\"Distribution of Number of caucasian Persons Applied\")\n",
    "plt.hist(caucasian_apps_df, 25)"
   ]
  },
  {
   "cell_type": "code",
   "execution_count": 57,
   "metadata": {},
   "outputs": [
    {
     "data": {
      "text/plain": [
       "(array([ 5.,  0.,  4.,  4., 13., 13., 17., 19., 10., 12., 16., 17., 20.,\n",
       "        11.,  6.,  9.,  3.,  2.,  3.,  1.,  0.,  0.,  1.,  0.,  1.]),\n",
       " array([0.        , 0.14338682, 0.28677363, 0.43016045, 0.57354726,\n",
       "        0.71693408, 0.86032089, 1.00370771, 1.14709452, 1.29048134,\n",
       "        1.43386815, 1.57725497, 1.72064178, 1.8640286 , 2.00741542,\n",
       "        2.15080223, 2.29418905, 2.43757586, 2.58096268, 2.72434949,\n",
       "        2.86773631, 3.01112312, 3.15450994, 3.29789675, 3.44128357,\n",
       "        3.58467038]),\n",
       " <a list of 25 Patch objects>)"
      ]
     },
     "execution_count": 57,
     "metadata": {},
     "output_type": "execute_result"
    },
    {
     "data": {
      "image/png": "[encoded data removed]",
      "text/plain": [
       "<Figure size 432x288 with 1 Axes>"
      ]
     },
     "metadata": {
      "needs_background": "light"
     },
     "output_type": "display_data"
    }
   ],
   "source": [
    "job_applicants_df[\"caucasian\"] = job_applicants_df[\"caucasian\"].replace(0, 1)\n",
    "log10caucasian_apps_received = np.log10(job_applicants_df[\"caucasian\"])\n",
    "plt.xlabel(\"# of caucasian Applied\")\n",
    "plt.ylabel(\"Record Number\")\n",
    "plt.title(\"Distribution of Number of caucasian Applicants log10\")\n",
    "plt.hist(log10caucasian_apps_received, 25)"
   ]
  },
  {
   "cell_type": "code",
   "execution_count": 58,
   "metadata": {},
   "outputs": [
    {
     "data": {
      "text/plain": [
       "(array([170.,  10.,   3.,   2.,   0.,   0.,   0.,   0.,   0.,   0.,   0.,\n",
       "          0.,   0.,   0.,   0.,   0.,   0.,   0.,   0.,   0.,   0.,   1.,\n",
       "          0.,   0.,   1.]),\n",
       " array([  0.  ,   6.12,  12.24,  18.36,  24.48,  30.6 ,  36.72,  42.84,\n",
       "         48.96,  55.08,  61.2 ,  67.32,  73.44,  79.56,  85.68,  91.8 ,\n",
       "         97.92, 104.04, 110.16, 116.28, 122.4 , 128.52, 134.64, 140.76,\n",
       "        146.88, 153.  ]),\n",
       " <a list of 25 Patch objects>)"
      ]
     },
     "execution_count": 58,
     "metadata": {},
     "output_type": "execute_result"
    },
    {
     "data": {
      "image/png": "[encoded data removed]",
      "text/plain": [
       "<Figure size 432x288 with 1 Axes>"
      ]
     },
     "metadata": {
      "needs_background": "light"
     },
     "output_type": "display_data"
    }
   ],
   "source": [
    "#american_indian_alaskan_native apps received histogram\n",
    "american_indian_alaskan_native_apps_df = job_applicants_df[\"american_indian_alaskan_native\"];\n",
    "plt.xlabel(\"# of american_indian_alaskan_native Persons Applied\")\n",
    "plt.ylabel(\"Record Number\")\n",
    "plt.title(\"Distribution of Number of american_indian_alaskan_native Persons Applied\")\n",
    "plt.hist(american_indian_alaskan_native_apps_df, 25)"
   ]
  },
  {
   "cell_type": "code",
   "execution_count": 59,
   "metadata": {},
   "outputs": [
    {
     "data": {
      "text/plain": [
       "(array([126.,   0.,   0.,  22.,   0.,   7.,   9.,   6.,   0.,   3.,   3.,\n",
       "          4.,   0.,   2.,   1.,   2.,   0.,   0.,   0.,   0.,   0.,   0.,\n",
       "          0.,   0.,   2.]),\n",
       " array([0.        , 0.08738766, 0.17477531, 0.26216297, 0.34955063,\n",
       "        0.43693829, 0.52432594, 0.6117136 , 0.69910126, 0.78648892,\n",
       "        0.87387657, 0.96126423, 1.04865189, 1.13603954, 1.2234272 ,\n",
       "        1.31081486, 1.39820252, 1.48559017, 1.57297783, 1.66036549,\n",
       "        1.74775314, 1.8351408 , 1.92252846, 2.00991612, 2.09730377,\n",
       "        2.18469143]),\n",
       " <a list of 25 Patch objects>)"
      ]
     },
     "execution_count": 59,
     "metadata": {},
     "output_type": "execute_result"
    },
    {
     "data": {
      "image/png": "[encoded data removed]",
      "text/plain": [
       "<Figure size 432x288 with 1 Axes>"
      ]
     },
     "metadata": {
      "needs_background": "light"
     },
     "output_type": "display_data"
    }
   ],
   "source": [
    "job_applicants_df[\"american_indian_alaskan_native\"] = job_applicants_df[\"american_indian_alaskan_native\"].replace(0, 1)\n",
    "log10american_indian_alaskan_native_apps_received = np.log10(job_applicants_df[\"american_indian_alaskan_native\"])\n",
    "plt.xlabel(\"# of american_indian_alaskan_native Applied\")\n",
    "plt.ylabel(\"Record Number\")\n",
    "plt.title(\"Distribution of Number of american_indian_alaskan_native Applicants log10\")\n",
    "plt.hist(log10american_indian_alaskan_native_apps_received, 25)"
   ]
  },
  {
   "cell_type": "code",
   "execution_count": 60,
   "metadata": {},
   "outputs": [
    {
     "data": {
      "text/plain": [
       "(array([160.,   9.,  11.,   3.,   1.,   0.,   1.,   0.,   1.,   0.,   0.,\n",
       "          0.,   0.,   0.,   0.,   0.,   0.,   0.,   0.,   0.,   0.,   0.,\n",
       "          0.,   0.,   1.]),\n",
       " array([  0. ,  29.6,  59.2,  88.8, 118.4, 148. , 177.6, 207.2, 236.8,\n",
       "        266.4, 296. , 325.6, 355.2, 384.8, 414.4, 444. , 473.6, 503.2,\n",
       "        532.8, 562.4, 592. , 621.6, 651.2, 680.8, 710.4, 740. ]),\n",
       " <a list of 25 Patch objects>)"
      ]
     },
     "execution_count": 60,
     "metadata": {},
     "output_type": "execute_result"
    },
    {
     "data": {
      "image/png": "[encoded data removed]",
      "text/plain": [
       "<Figure size 432x288 with 1 Axes>"
      ]
     },
     "metadata": {
      "needs_background": "light"
     },
     "output_type": "display_data"
    }
   ],
   "source": [
    "#filipino apps received histogram\n",
    "filipino_apps_df = job_applicants_df[\"filipino\"];\n",
    "plt.xlabel(\"# of filipino Persons Applied\")\n",
    "plt.ylabel(\"Record Number\")\n",
    "plt.title(\"Distribution of Number of filipino Persons Applied\")\n",
    "plt.hist(filipino_apps_df, 25)"
   ]
  },
  {
   "cell_type": "code",
   "execution_count": 61,
   "metadata": {},
   "outputs": [
    {
     "data": {
      "text/plain": [
       "(array([59.,  0., 14.,  0., 10., 10., 22.,  6., 11., 13.,  8.,  4.,  3.,\n",
       "         5.,  4.,  2.,  9.,  3.,  1.,  1.,  1.,  0.,  0.,  0.,  1.]),\n",
       " array([0.        , 0.11476927, 0.22953854, 0.34430781, 0.45907708,\n",
       "        0.57384634, 0.68861561, 0.80338488, 0.91815415, 1.03292342,\n",
       "        1.14769269, 1.26246196, 1.37723123, 1.49200049, 1.60676976,\n",
       "        1.72153903, 1.8363083 , 1.95107757, 2.06584684, 2.18061611,\n",
       "        2.29538538, 2.41015464, 2.52492391, 2.63969318, 2.75446245,\n",
       "        2.86923172]),\n",
       " <a list of 25 Patch objects>)"
      ]
     },
     "execution_count": 61,
     "metadata": {},
     "output_type": "execute_result"
    },
    {
     "data": {
      "image/png": "[encoded data removed]",
      "text/plain": [
       "<Figure size 432x288 with 1 Axes>"
      ]
     },
     "metadata": {
      "needs_background": "light"
     },
     "output_type": "display_data"
    }
   ],
   "source": [
    "job_applicants_df[\"filipino\"] = job_applicants_df[\"filipino\"].replace(0, 1)\n",
    "log10filipino_apps_received = np.log10(job_applicants_df[\"filipino\"])\n",
    "plt.xlabel(\"# of filipino Applied\")\n",
    "plt.ylabel(\"Record Number\")\n",
    "plt.title(\"Distribution of Number of filipino Applicants log10\")\n",
    "plt.hist(log10filipino_apps_received, 25)"
   ]
  },
  {
   "cell_type": "code",
   "execution_count": 62,
   "metadata": {},
   "outputs": [
    {
     "data": {
      "text/plain": [
       "(array([171.,  12.,   2.,   0.,   0.,   0.,   0.,   0.,   0.,   0.,   0.,\n",
       "          0.,   0.,   1.,   0.,   0.,   0.,   0.,   0.,   0.,   0.,   0.,\n",
       "          0.,   0.,   1.]),\n",
       " array([   0.,   59.,  118.,  177.,  236.,  295.,  354.,  413.,  472.,\n",
       "         531.,  590.,  649.,  708.,  767.,  826.,  885.,  944., 1003.,\n",
       "        1062., 1121., 1180., 1239., 1298., 1357., 1416., 1475.]),\n",
       " <a list of 25 Patch objects>)"
      ]
     },
     "execution_count": 62,
     "metadata": {},
     "output_type": "execute_result"
    },
    {
     "data": {
      "image/png": "[encoded data removed]",
      "text/plain": [
       "<Figure size 432x288 with 1 Axes>"
      ]
     },
     "metadata": {
      "needs_background": "light"
     },
     "output_type": "display_data"
    }
   ],
   "source": [
    "#unknown_ethnicity apps received histogram\n",
    "unknown_ethnicity_apps_df = job_applicants_df[\"unknown_ethnicity\"];\n",
    "plt.xlabel(\"# of unknown_ethnicity Persons Applied\")\n",
    "plt.ylabel(\"Record Number\")\n",
    "plt.title(\"Distribution of Number of unknown_ethnicity Persons Applied\")\n",
    "plt.hist(unknown_ethnicity_apps_df, 25)"
   ]
  },
  {
   "cell_type": "code",
   "execution_count": 63,
   "metadata": {},
   "outputs": [
    {
     "data": {
      "text/plain": [
       "(array([33.,  0., 21., 12., 10., 15., 15., 15.,  8.,  9., 14.,  9.,  5.,\n",
       "         5.,  7.,  5.,  1.,  1.,  0.,  0.,  0.,  0.,  1.,  0.,  1.]),\n",
       " array([0.        , 0.12675168, 0.25350336, 0.38025504, 0.50700672,\n",
       "        0.6337584 , 0.76051008, 0.88726177, 1.01401345, 1.14076513,\n",
       "        1.26751681, 1.39426849, 1.52102017, 1.64777185, 1.77452353,\n",
       "        1.90127521, 2.02802689, 2.15477857, 2.28153025, 2.40828194,\n",
       "        2.53503362, 2.6617853 , 2.78853698, 2.91528866, 3.04204034,\n",
       "        3.16879202]),\n",
       " <a list of 25 Patch objects>)"
      ]
     },
     "execution_count": 63,
     "metadata": {},
     "output_type": "execute_result"
    },
    {
     "data": {
      "image/png": "[encoded data removed]",
      "text/plain": [
       "<Figure size 432x288 with 1 Axes>"
      ]
     },
     "metadata": {
      "needs_background": "light"
     },
     "output_type": "display_data"
    }
   ],
   "source": [
    "job_applicants_df[\"unknown_ethnicity\"] = job_applicants_df[\"unknown_ethnicity\"].replace(0, 1)\n",
    "log10unknown_ethnicity_apps_received = np.log10(job_applicants_df[\"unknown_ethnicity\"])\n",
    "plt.xlabel(\"# of unknown_ethnicity Applied\")\n",
    "plt.ylabel(\"Record Number\")\n",
    "plt.title(\"Distribution of Number of unknown_ethnicity Applicants log10\")\n",
    "plt.hist(log10unknown_ethnicity_apps_received, 25)"
   ]
  },
  {
   "cell_type": "code",
   "execution_count": 64,
   "metadata": {},
   "outputs": [
    {
     "data": {
      "image/png": "[encoded data removed]",
      "text/plain": [
       "<Figure size 432x288 with 121 Axes>"
      ]
     },
     "metadata": {
      "needs_background": "light"
     },
     "output_type": "display_data"
    }
   ],
   "source": [
    "fd = pd.plotting.scatter_matrix(job_applicants_df[['apps_received', 'female', 'male', 'unknown_gender', 'black', 'hispanic', 'asian', 'caucasian', 'american_indian_alaskan_native', 'filipino', 'unknown_ethnicity']])"
   ]
  },
  {
   "cell_type": "code",
   "execution_count": null,
   "metadata": {},
   "outputs": [],
   "source": []
  },
  {
   "cell_type": "code",
   "execution_count": null,
   "metadata": {},
   "outputs": [],
   "source": []
  }
 ],
 "metadata": {
  "kernelspec": {
   "display_name": "Python 2",
   "language": "python",
   "name": "python2"
  },
  "language_info": {
   "codemirror_mode": {
    "name": "ipython",
    "version": 2
   },
   "file_extension": ".py",
   "mimetype": "text/x-python",
   "name": "python",
   "nbconvert_exporter": "python",
   "pygments_lexer": "ipython2",
   "version": "2.7.16"
  }
 },
 "nbformat": 4,
 "nbformat_minor": 2
}
